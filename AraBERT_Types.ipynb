{
 "cells": [
  {
   "cell_type": "code",
   "execution_count": 1,
   "metadata": {
    "colab": {
     "base_uri": "https://localhost:8080/"
    },
    "id": "C4tlwQ8si_FI",
    "outputId": "088d7b24-ae0e-4709-8405-729b6151bd7d"
   },
   "outputs": [
    {
     "name": "stdout",
     "output_type": "stream",
     "text": [
      "There are 2 GPU(s) available.\n",
      "We will use the GPU: NVIDIA GeForce RTX 2080 SUPER\n"
     ]
    }
   ],
   "source": [
    "import torch\n",
    "\n",
    "# If there's a GPU available...\n",
    "if torch.cuda.is_available():    \n",
    "\n",
    "    # Tell PyTorch to use the GPU.\n",
    "    device = torch.device(\"cuda\")\n",
    "\n",
    "    print('There are %d GPU(s) available.' % torch.cuda.device_count())\n",
    "\n",
    "    print('We will use the GPU:', torch.cuda.get_device_name(0))\n",
    "\n",
    "# If not...\n",
    "else:\n",
    "    print('No GPU available, using the CPU instead.')\n",
    "    device = torch.device(\"cpu\")"
   ]
  },
  {
   "cell_type": "markdown",
   "metadata": {
    "id": "g4mZ8KYblg-g"
   },
   "source": [
    "#installing dependencies"
   ]
  },
  {
   "cell_type": "code",
   "execution_count": 2,
   "metadata": {
    "colab": {
     "base_uri": "https://localhost:8080/"
    },
    "id": "y024z5AnlTLz",
    "outputId": "764e9746-9704-4497-d6b9-93efab106b1c",
    "scrolled": false
   },
   "outputs": [
    {
     "name": "stdout",
     "output_type": "stream",
     "text": [
      "Requirement already satisfied: optuna==2.3.0 in c:\\users\\bwfch\\.conda\\envs\\bert\\lib\\site-packages (2.3.0)\n",
      "Requirement already satisfied: cmaes>=0.6.0 in c:\\users\\bwfch\\.conda\\envs\\bert\\lib\\site-packages (from optuna==2.3.0) (0.8.2)\n",
      "Requirement already satisfied: tqdm in c:\\users\\bwfch\\.conda\\envs\\bert\\lib\\site-packages (from optuna==2.3.0) (4.63.1)\n",
      "Requirement already satisfied: numpy in c:\\users\\bwfch\\.conda\\envs\\bert\\lib\\site-packages (from optuna==2.3.0) (1.20.2)\n",
      "Requirement already satisfied: packaging>=20.0 in c:\\users\\bwfch\\.conda\\envs\\bert\\lib\\site-packages (from optuna==2.3.0) (20.9)\n",
      "Requirement already satisfied: joblib in c:\\users\\bwfch\\.conda\\envs\\bert\\lib\\site-packages (from optuna==2.3.0) (1.0.1)\n",
      "Requirement already satisfied: scipy!=1.4.0 in c:\\users\\bwfch\\.conda\\envs\\bert\\lib\\site-packages (from optuna==2.3.0) (1.6.3)\n",
      "Requirement already satisfied: colorlog in c:\\users\\bwfch\\.conda\\envs\\bert\\lib\\site-packages (from optuna==2.3.0) (6.4.1)\n",
      "Requirement already satisfied: sqlalchemy>=1.1.0 in c:\\users\\bwfch\\.conda\\envs\\bert\\lib\\site-packages (from optuna==2.3.0) (1.4.25)\n",
      "Requirement already satisfied: cliff in c:\\users\\bwfch\\.conda\\envs\\bert\\lib\\site-packages (from optuna==2.3.0) (3.9.0)\n",
      "Requirement already satisfied: alembic in c:\\users\\bwfch\\.conda\\envs\\bert\\lib\\site-packages (from optuna==2.3.0) (1.7.3)\n",
      "Requirement already satisfied: pyparsing>=2.0.2 in c:\\users\\bwfch\\.conda\\envs\\bert\\lib\\site-packages (from packaging>=20.0->optuna==2.3.0) (2.4.7)\n",
      "Requirement already satisfied: greenlet!=0.4.17 in c:\\users\\bwfch\\.conda\\envs\\bert\\lib\\site-packages (from sqlalchemy>=1.1.0->optuna==2.3.0) (1.1.2)\n",
      "Requirement already satisfied: importlib-resources in c:\\users\\bwfch\\.conda\\envs\\bert\\lib\\site-packages (from alembic->optuna==2.3.0) (5.2.2)\n",
      "Requirement already satisfied: Mako in c:\\users\\bwfch\\.conda\\envs\\bert\\lib\\site-packages (from alembic->optuna==2.3.0) (1.1.5)\n",
      "Requirement already satisfied: cmd2>=1.0.0 in c:\\users\\bwfch\\.conda\\envs\\bert\\lib\\site-packages (from cliff->optuna==2.3.0) (2.2.0)\n",
      "Requirement already satisfied: PyYAML>=3.12 in c:\\users\\bwfch\\.conda\\envs\\bert\\lib\\site-packages (from cliff->optuna==2.3.0) (5.4.1)\n",
      "Requirement already satisfied: stevedore>=2.0.1 in c:\\users\\bwfch\\.conda\\envs\\bert\\lib\\site-packages (from cliff->optuna==2.3.0) (3.4.0)\n",
      "Requirement already satisfied: pbr!=2.1.0,>=2.0.0 in c:\\users\\bwfch\\.conda\\envs\\bert\\lib\\site-packages (from cliff->optuna==2.3.0) (5.6.0)\n",
      "Requirement already satisfied: PrettyTable>=0.7.2 in c:\\users\\bwfch\\.conda\\envs\\bert\\lib\\site-packages (from cliff->optuna==2.3.0) (2.2.1)\n",
      "Requirement already satisfied: autopage>=0.4.0 in c:\\users\\bwfch\\.conda\\envs\\bert\\lib\\site-packages (from cliff->optuna==2.3.0) (0.4.0)\n",
      "Requirement already satisfied: wcwidth>=0.1.7 in c:\\users\\bwfch\\.conda\\envs\\bert\\lib\\site-packages (from cmd2>=1.0.0->cliff->optuna==2.3.0) (0.2.5)\n",
      "Requirement already satisfied: colorama>=0.3.7 in c:\\users\\bwfch\\.conda\\envs\\bert\\lib\\site-packages (from cmd2>=1.0.0->cliff->optuna==2.3.0) (0.4.4)\n",
      "Requirement already satisfied: pyperclip>=1.6 in c:\\users\\bwfch\\.conda\\envs\\bert\\lib\\site-packages (from cmd2>=1.0.0->cliff->optuna==2.3.0) (1.8.2)\n",
      "Requirement already satisfied: attrs>=16.3.0 in c:\\users\\bwfch\\.conda\\envs\\bert\\lib\\site-packages (from cmd2>=1.0.0->cliff->optuna==2.3.0) (21.2.0)\n",
      "Requirement already satisfied: pyreadline3 in c:\\users\\bwfch\\.conda\\envs\\bert\\lib\\site-packages (from cmd2>=1.0.0->cliff->optuna==2.3.0) (3.3)\n",
      "Requirement already satisfied: zipp>=3.1.0 in c:\\users\\bwfch\\.conda\\envs\\bert\\lib\\site-packages (from importlib-resources->alembic->optuna==2.3.0) (3.6.0)\n",
      "Requirement already satisfied: MarkupSafe>=0.9.2 in c:\\users\\bwfch\\.conda\\envs\\bert\\lib\\site-packages (from Mako->alembic->optuna==2.3.0) (2.0.1)\n",
      "Collecting transformers==4.2.1\n",
      "  Using cached transformers-4.2.1-py3-none-any.whl (1.8 MB)\n",
      "Requirement already satisfied: regex!=2019.12.17 in c:\\users\\bwfch\\.conda\\envs\\bert\\lib\\site-packages (from transformers==4.2.1) (2021.4.4)\n",
      "Requirement already satisfied: numpy in c:\\users\\bwfch\\.conda\\envs\\bert\\lib\\site-packages (from transformers==4.2.1) (1.20.2)\n",
      "Collecting tokenizers==0.9.4\n",
      "  Using cached tokenizers-0.9.4-cp38-cp38-win_amd64.whl (1.9 MB)\n",
      "Requirement already satisfied: packaging in c:\\users\\bwfch\\.conda\\envs\\bert\\lib\\site-packages (from transformers==4.2.1) (20.9)\n",
      "Requirement already satisfied: sacremoses in c:\\users\\bwfch\\.conda\\envs\\bert\\lib\\site-packages (from transformers==4.2.1) (0.0.45)\n",
      "Requirement already satisfied: tqdm>=4.27 in c:\\users\\bwfch\\.conda\\envs\\bert\\lib\\site-packages (from transformers==4.2.1) (4.63.1)\n",
      "Requirement already satisfied: filelock in c:\\users\\bwfch\\.conda\\envs\\bert\\lib\\site-packages (from transformers==4.2.1) (3.0.12)\n",
      "Requirement already satisfied: requests in c:\\users\\bwfch\\.conda\\envs\\bert\\lib\\site-packages (from transformers==4.2.1) (2.25.1)\n",
      "Requirement already satisfied: colorama in c:\\users\\bwfch\\.conda\\envs\\bert\\lib\\site-packages (from tqdm>=4.27->transformers==4.2.1) (0.4.4)\n",
      "Requirement already satisfied: pyparsing>=2.0.2 in c:\\users\\bwfch\\.conda\\envs\\bert\\lib\\site-packages (from packaging->transformers==4.2.1) (2.4.7)\n",
      "Requirement already satisfied: urllib3<1.27,>=1.21.1 in c:\\users\\bwfch\\.conda\\envs\\bert\\lib\\site-packages (from requests->transformers==4.2.1) (1.26.4)\n",
      "Requirement already satisfied: certifi>=2017.4.17 in c:\\users\\bwfch\\.conda\\envs\\bert\\lib\\site-packages (from requests->transformers==4.2.1) (2020.12.5)\n",
      "Requirement already satisfied: chardet<5,>=3.0.2 in c:\\users\\bwfch\\.conda\\envs\\bert\\lib\\site-packages (from requests->transformers==4.2.1) (4.0.0)\n",
      "Requirement already satisfied: idna<3,>=2.5 in c:\\users\\bwfch\\.conda\\envs\\bert\\lib\\site-packages (from requests->transformers==4.2.1) (2.10)\n",
      "Requirement already satisfied: joblib in c:\\users\\bwfch\\.conda\\envs\\bert\\lib\\site-packages (from sacremoses->transformers==4.2.1) (1.0.1)\n",
      "Requirement already satisfied: click in c:\\users\\bwfch\\.conda\\envs\\bert\\lib\\site-packages (from sacremoses->transformers==4.2.1) (8.0.0)\n",
      "Requirement already satisfied: six in c:\\users\\bwfch\\.conda\\envs\\bert\\lib\\site-packages (from sacremoses->transformers==4.2.1) (1.15.0)\n",
      "Installing collected packages: tokenizers, transformers\n",
      "  Attempting uninstall: tokenizers\n",
      "    Found existing installation: tokenizers 0.12.1\n",
      "    Uninstalling tokenizers-0.12.1:\n",
      "      Successfully uninstalled tokenizers-0.12.1\n",
      "  Attempting uninstall: transformers\n",
      "    Found existing installation: transformers 4.20.1\n",
      "    Uninstalling transformers-4.20.1:\n",
      "      Successfully uninstalled transformers-4.20.1\n",
      "Successfully installed tokenizers-0.9.4 transformers-4.2.1\n",
      "Requirement already satisfied: farasapy in c:\\users\\bwfch\\.conda\\envs\\bert\\lib\\site-packages (0.0.14)\n",
      "Requirement already satisfied: tqdm in c:\\users\\bwfch\\.conda\\envs\\bert\\lib\\site-packages (from farasapy) (4.63.1)\n",
      "Requirement already satisfied: requests in c:\\users\\bwfch\\.conda\\envs\\bert\\lib\\site-packages (from farasapy) (2.25.1)\n",
      "Requirement already satisfied: chardet<5,>=3.0.2 in c:\\users\\bwfch\\.conda\\envs\\bert\\lib\\site-packages (from requests->farasapy) (4.0.0)\n",
      "Requirement already satisfied: idna<3,>=2.5 in c:\\users\\bwfch\\.conda\\envs\\bert\\lib\\site-packages (from requests->farasapy) (2.10)\n",
      "Requirement already satisfied: certifi>=2017.4.17 in c:\\users\\bwfch\\.conda\\envs\\bert\\lib\\site-packages (from requests->farasapy) (2020.12.5)\n",
      "Requirement already satisfied: urllib3<1.27,>=1.21.1 in c:\\users\\bwfch\\.conda\\envs\\bert\\lib\\site-packages (from requests->farasapy) (1.26.4)\n",
      "Requirement already satisfied: colorama in c:\\users\\bwfch\\.conda\\envs\\bert\\lib\\site-packages (from tqdm->farasapy) (0.4.4)\n",
      "Requirement already satisfied: pyarabic in c:\\users\\bwfch\\.conda\\envs\\bert\\lib\\site-packages (0.6.10)\n"
     ]
    },
    {
     "name": "stderr",
     "output_type": "stream",
     "text": [
      "fatal: destination path 'arabert' already exists and is not an empty directory.\n"
     ]
    }
   ],
   "source": [
    "!pip install optuna==2.3.0\n",
    "!pip install transformers==4.2.1\n",
    "!pip install farasapy\n",
    "!pip install pyarabic\n",
    "!git clone https://github.com/aub-mind/arabert"
   ]
  },
  {
   "cell_type": "code",
   "execution_count": 3,
   "metadata": {
    "id": "krBvefg6l6vv"
   },
   "outputs": [
    {
     "name": "stdout",
     "output_type": "stream",
     "text": [
      "Requirement already satisfied: openpyxl in c:\\users\\bwfch\\.conda\\envs\\bert\\lib\\site-packages (3.0.7)\n",
      "Requirement already satisfied: et-xmlfile in c:\\users\\bwfch\\.conda\\envs\\bert\\lib\\site-packages (from openpyxl) (1.1.0)\n",
      "Requirement already satisfied: xlrd in c:\\users\\bwfch\\.conda\\envs\\bert\\lib\\site-packages (2.0.1)\n"
     ]
    }
   ],
   "source": [
    "!pip install openpyxl\n",
    "!pip install xlrd"
   ]
  },
  {
   "cell_type": "markdown",
   "metadata": {
    "id": "TVay9KamnC3I"
   },
   "source": [
    "#Creating training datasets"
   ]
  },
  {
   "cell_type": "code",
   "execution_count": 2,
   "metadata": {
    "id": "hr84ozGinCFh"
   },
   "outputs": [],
   "source": [
    "import pandas as pd\n",
    "import numpy as np\n",
    "\n",
    "from tqdm import tqdm_notebook as tqdm\n",
    "from sklearn.model_selection import train_test_split\n",
    "all_datasets= []"
   ]
  },
  {
   "cell_type": "code",
   "execution_count": 3,
   "metadata": {
    "id": "8PhWP2JzrEci"
   },
   "outputs": [],
   "source": [
    "class Dataset:\n",
    "    def __init__(\n",
    "        self,\n",
    "        name,\n",
    "        train,\n",
    "        test,\n",
    "        label_list,\n",
    "    ):\n",
    "        self.name = name\n",
    "        self.train = train\n",
    "        self.test = test\n",
    "        self.label_list = label_list"
   ]
  },
  {
   "cell_type": "markdown",
   "metadata": {
    "id": "joWPYWGMqLau"
   },
   "source": [
    "##HARD - Balanced"
   ]
  },
  {
   "cell_type": "code",
   "execution_count": 4,
   "metadata": {
    "colab": {
     "base_uri": "https://localhost:8080/"
    },
    "id": "-6oL3qkXmOgJ",
    "outputId": "e3047e51-11c1-4a13-ac6e-acc1658d977d"
   },
   "outputs": [
    {
     "name": "stdout",
     "output_type": "stream",
     "text": [
      "4    730\n",
      "3    369\n",
      "2    325\n",
      "1    303\n",
      "0    252\n",
      "Name: tags, dtype: int64\n"
     ]
    }
   ],
   "source": [
    "df_HARD = pd.read_excel('ML1.xlsx', engine='openpyxl', header=None)\r\n",
    "df_HARD = df_HARD.rename(columns={0: 'tags', 1: 'post'})\r\n",
    "print(df_HARD[\"tags\"].value_counts())\r\n",
    "# code rating as +ve if > 3, -ve if less, no 3s in dataset\r\n",
    "\r\n",
    "train_HARD, test_HARD = train_test_split(df_HARD, test_size=0.2, random_state=42)\r\n",
    "label_list_HARD = list(range(0, 5))\r\n",
    "\r\n",
    "data_Hard = Dataset(\"ML1\", train_HARD, test_HARD, label_list_HARD)\r\n",
    "all_datasets.append(data_Hard)"
   ]
  },
  {
   "cell_type": "code",
   "execution_count": 5,
   "metadata": {
    "colab": {
     "base_uri": "https://localhost:8080/"
    },
    "id": "JFYs8DEEvHoX",
    "outputId": "8ac932c0-16e0-4cc0-f7b6-0ad70ba9c197"
   },
   "outputs": [
    {
     "name": "stdout",
     "output_type": "stream",
     "text": [
      "ML1\n"
     ]
    }
   ],
   "source": [
    "for x in all_datasets:\n",
    "  print(x.name) "
   ]
  },
  {
   "cell_type": "markdown",
   "metadata": {
    "id": "Bcwdslw7v0Q8"
   },
   "source": [
    "#Trainer"
   ]
  },
  {
   "cell_type": "code",
   "execution_count": 27,
   "metadata": {},
   "outputs": [
    {
     "name": "stdout",
     "output_type": "stream",
     "text": [
      "Requirement already satisfied: transformers in c:\\users\\bwfch\\.conda\\envs\\bert\\lib\\site-packages (4.20.1)\n",
      "Requirement already satisfied: filelock in c:\\users\\bwfch\\.conda\\envs\\bert\\lib\\site-packages (from transformers) (3.0.12)\n",
      "Requirement already satisfied: packaging>=20.0 in c:\\users\\bwfch\\.conda\\envs\\bert\\lib\\site-packages (from transformers) (20.9)\n",
      "Requirement already satisfied: tqdm>=4.27 in c:\\users\\bwfch\\.conda\\envs\\bert\\lib\\site-packages (from transformers) (4.63.1)\n",
      "Requirement already satisfied: pyyaml>=5.1 in c:\\users\\bwfch\\.conda\\envs\\bert\\lib\\site-packages (from transformers) (5.4.1)\n",
      "Requirement already satisfied: tokenizers!=0.11.3,<0.13,>=0.11.1 in c:\\users\\bwfch\\.conda\\envs\\bert\\lib\\site-packages (from transformers) (0.12.1)\n",
      "Requirement already satisfied: regex!=2019.12.17 in c:\\users\\bwfch\\.conda\\envs\\bert\\lib\\site-packages (from transformers) (2021.4.4)\n",
      "Requirement already satisfied: huggingface-hub<1.0,>=0.1.0 in c:\\users\\bwfch\\.conda\\envs\\bert\\lib\\site-packages (from transformers) (0.1.0)\n",
      "Requirement already satisfied: numpy>=1.17 in c:\\users\\bwfch\\.conda\\envs\\bert\\lib\\site-packages (from transformers) (1.20.2)\n",
      "Requirement already satisfied: requests in c:\\users\\bwfch\\.conda\\envs\\bert\\lib\\site-packages (from transformers) (2.25.1)\n",
      "Requirement already satisfied: typing-extensions in c:\\users\\bwfch\\.conda\\envs\\bert\\lib\\site-packages (from huggingface-hub<1.0,>=0.1.0->transformers) (3.7.4.3)\n",
      "Requirement already satisfied: pyparsing>=2.0.2 in c:\\users\\bwfch\\.conda\\envs\\bert\\lib\\site-packages (from packaging>=20.0->transformers) (2.4.7)\n",
      "Requirement already satisfied: colorama in c:\\users\\bwfch\\.conda\\envs\\bert\\lib\\site-packages (from tqdm>=4.27->transformers) (0.4.4)\n",
      "Requirement already satisfied: certifi>=2017.4.17 in c:\\users\\bwfch\\.conda\\envs\\bert\\lib\\site-packages (from requests->transformers) (2020.12.5)\n",
      "Requirement already satisfied: idna<3,>=2.5 in c:\\users\\bwfch\\.conda\\envs\\bert\\lib\\site-packages (from requests->transformers) (2.10)\n",
      "Requirement already satisfied: urllib3<1.27,>=1.21.1 in c:\\users\\bwfch\\.conda\\envs\\bert\\lib\\site-packages (from requests->transformers) (1.26.4)\n",
      "Requirement already satisfied: chardet<5,>=3.0.2 in c:\\users\\bwfch\\.conda\\envs\\bert\\lib\\site-packages (from requests->transformers) (4.0.0)\n"
     ]
    }
   ],
   "source": [
    "!pip install transformers -U"
   ]
  },
  {
   "cell_type": "code",
   "execution_count": 6,
   "metadata": {
    "id": "HUn2RB6Bvrxj"
   },
   "outputs": [],
   "source": [
    "from arabert.preprocess import ArabertPreprocessor\n",
    "import numpy as np\n",
    "from sklearn.metrics import classification_report, accuracy_score, f1_score, confusion_matrix, precision_score , recall_score\n",
    "\n",
    "from transformers import AutoConfig, AutoModelForSequenceClassification, AutoTokenizer, BertTokenizer\n",
    "from transformers.data.processors import SingleSentenceClassificationProcessor\n",
    "from transformers import Trainer , TrainingArguments\n",
    "from transformers.trainer_utils import EvaluationStrategy\n",
    "from transformers.data.processors.utils import InputFeatures\n",
    "from torch.utils.data import Dataset\n",
    "from torch.utils.data import DataLoader\n",
    "from sklearn.utils import resample\n",
    "import logging\n",
    "import torch\n",
    "import optuna "
   ]
  },
  {
   "cell_type": "code",
   "execution_count": 7,
   "metadata": {
    "id": "KfNKr05tv7cA"
   },
   "outputs": [],
   "source": [
    "logging.basicConfig(level=logging.WARNING)\n",
    "logger = logging.getLogger(__name__)"
   ]
  },
  {
   "cell_type": "code",
   "execution_count": 8,
   "metadata": {
    "colab": {
     "base_uri": "https://localhost:8080/"
    },
    "id": "R4SGYoB2EDJD",
    "outputId": "6e82ed5a-0f54-45f2-f866-bd54c1bee75c"
   },
   "outputs": [
    {
     "name": "stdout",
     "output_type": "stream",
     "text": [
      "ML1\n"
     ]
    }
   ],
   "source": [
    "for x in all_datasets:\n",
    "  print(x.name)"
   ]
  },
  {
   "cell_type": "markdown",
   "metadata": {
    "id": "62Lma6tT5zJi"
   },
   "source": [
    "You can choose which model, and dataset from here along with the max sentence length"
   ]
  },
  {
   "cell_type": "code",
   "execution_count": 9,
   "metadata": {
    "id": "vzeVFoz1wDYf"
   },
   "outputs": [],
   "source": [
    "dataset_name = 'ML1'\n",
    "model_name = 'aubmindlab/bert-base-arabertv2'\n",
    "task_name = 'classification'\n",
    "max_len = 256"
   ]
  },
  {
   "cell_type": "code",
   "execution_count": 10,
   "metadata": {
    "colab": {
     "base_uri": "https://localhost:8080/"
    },
    "id": "_ieCOj90aw8X",
    "outputId": "cbd57d7a-453a-49af-ccf2-efc3a6dcb4ae"
   },
   "outputs": [
    {
     "name": "stdout",
     "output_type": "stream",
     "text": [
      "Dataset found\n"
     ]
    }
   ],
   "source": [
    "for d in all_datasets:\n",
    "  if d.name==dataset_name:\n",
    "    selected_dataset = d\n",
    "    print('Dataset found')\n",
    "    break"
   ]
  },
  {
   "cell_type": "code",
   "execution_count": 11,
   "metadata": {
    "colab": {
     "base_uri": "https://localhost:8080/"
    },
    "id": "lt_lGy85zuca",
    "outputId": "004dafd1-0716-49dc-decf-03b54609a752"
   },
   "outputs": [
    {
     "name": "stderr",
     "output_type": "stream",
     "text": [
      "[2022-06-28 20:41:52,821 - farasapy_logger - WARNING]: Be careful with large lines as they may break on interactive mode. You may switch to Standalone mode for such cases.\n",
      "<ipython-input-11-db95ccf0e1e4>:3: SettingWithCopyWarning: \n",
      "A value is trying to be set on a copy of a slice from a DataFrame.\n",
      "Try using .loc[row_indexer,col_indexer] = value instead\n",
      "\n",
      "See the caveats in the documentation: https://pandas.pydata.org/pandas-docs/stable/user_guide/indexing.html#returning-a-view-versus-a-copy\n",
      "  selected_dataset.train['post'] = selected_dataset.train['post'].apply(lambda x: arabert_prep.preprocess(x))\n",
      "<ipython-input-11-db95ccf0e1e4>:4: SettingWithCopyWarning: \n",
      "A value is trying to be set on a copy of a slice from a DataFrame.\n",
      "Try using .loc[row_indexer,col_indexer] = value instead\n",
      "\n",
      "See the caveats in the documentation: https://pandas.pydata.org/pandas-docs/stable/user_guide/indexing.html#returning-a-view-versus-a-copy\n",
      "  selected_dataset.test['post'] = selected_dataset.test['post'].apply(lambda x: arabert_prep.preprocess(x))\n"
     ]
    }
   ],
   "source": [
    "arabert_prep = ArabertPreprocessor(\"bert-base-arabertv2\")\n",
    "\n",
    "selected_dataset.train['post'] = selected_dataset.train['post'].apply(lambda x: arabert_prep.preprocess(x))\n",
    "selected_dataset.test['post'] = selected_dataset.test['post'].apply(lambda x: arabert_prep.preprocess(x))  "
   ]
  },
  {
   "cell_type": "code",
   "execution_count": 13,
   "metadata": {
    "id": "4YS7XI2bZTyz"
   },
   "outputs": [],
   "source": [
    "class BERTDataset(Dataset):\n",
    "    def __init__(self, text, target, model_name, max_len, label_map):\n",
    "      super(BERTDataset).__init__()\n",
    "      self.text = text\n",
    "      self.target = target\n",
    "      self.tokenizer_name = model_name\n",
    "      self.tokenizer = AutoTokenizer.from_pretrained(model_name)\n",
    "      self.max_len = max_len\n",
    "      self.label_map = label_map\n",
    "      \n",
    "\n",
    "    def __len__(self):\n",
    "      return len(self.text)\n",
    "\n",
    "    def __getitem__(self,item):\n",
    "      text = str(self.text[item])\n",
    "      text = \" \".join(text.split())\n",
    "\n",
    "\n",
    "        \n",
    "      input_ids = self.tokenizer.encode(\n",
    "          text,\n",
    "          add_special_tokens=True,\n",
    "          max_length=self.max_len,\n",
    "          truncation='longest_first'\n",
    "      )     \n",
    "    \n",
    "      attention_mask = [1] * len(input_ids)\n",
    "\n",
    "      # Zero-pad up to the sequence length.\n",
    "      padding_length = self.max_len - len(input_ids)\n",
    "      input_ids = input_ids + ([self.tokenizer.pad_token_id] * padding_length)\n",
    "      attention_mask = attention_mask + ([0] * padding_length)    \n",
    "      \n",
    "      return InputFeatures(input_ids=input_ids, attention_mask=attention_mask, label=self.label_map[self.target[item]])"
   ]
  },
  {
   "cell_type": "code",
   "execution_count": 19,
   "metadata": {
    "id": "mciZOFz-amkV"
   },
   "outputs": [
    {
     "name": "stdout",
     "output_type": "stream",
     "text": [
      "{0: 0, 1: 1, 2: 2, 3: 3, 4: 4}\n"
     ]
    }
   ],
   "source": [
    "label_map = { v:index for index, v in enumerate(selected_dataset.label_list) }\n",
    "print(label_map)\n",
    "train_dataset = BERTDataset(selected_dataset.train['post'].to_list(),selected_dataset.train['tags'].to_list(),model_name,max_len,label_map)\n",
    "test_dataset = BERTDataset(selected_dataset.test['post'].to_list(),selected_dataset.test['tags'].to_list(),model_name,max_len,label_map)"
   ]
  },
  {
   "cell_type": "code",
   "execution_count": 20,
   "metadata": {
    "id": "lt7l0IxjbmNu"
   },
   "outputs": [],
   "source": [
    "def model_init():\n",
    "    return AutoModelForSequenceClassification.from_pretrained(model_name, return_dict=True, num_labels=len(label_map))"
   ]
  },
  {
   "cell_type": "code",
   "execution_count": 15,
   "metadata": {
    "id": "UYU6G4vWc5nz"
   },
   "outputs": [],
   "source": [
    "def compute_metrics(p): #p should be of type EvalPrediction\r\n",
    "  preds = np.argmax(p.predictions, axis=1)\r\n",
    "  assert len(preds) == len(p.label_ids)\r\n",
    "  #print(classification_report(p.label_ids,preds))\r\n",
    "  #print(confusion_matrix(p.label_ids,preds))\r\n",
    "\r\n",
    "  macro_f1_per_label = f1_score(p.label_ids, preds,average='macro', labels=list(range(0, 5)))\r\n",
    "  macro_f1 = f1_score(p.label_ids,preds, average='macro')\r\n",
    "  macro_precision = precision_score(p.label_ids, preds,average='macro')\r\n",
    "  macro_recall = recall_score(p.label_ids, preds, average='macro')\r\n",
    "  acc = accuracy_score(p.label_ids, preds)\r\n",
    "  return {\r\n",
    "      'macro_f1' : macro_f1,\r\n",
    "      'macro_f1_per_label' : macro_f1_per_label,  \r\n",
    "      'macro_precision': macro_precision,\r\n",
    "      'macro_recall': macro_recall,\r\n",
    "      'accuracy': acc\r\n",
    "  }"
   ]
  },
  {
   "cell_type": "markdown",
   "metadata": {
    "id": "vTmvFEs41WkV"
   },
   "source": [
    "# Regular Training"
   ]
  },
  {
   "cell_type": "markdown",
   "metadata": {
    "id": "V_oGjIC-7Vow"
   },
   "source": [
    "This paert allows you to do a regular training with no hyper parameter optimization"
   ]
  },
  {
   "cell_type": "code",
   "execution_count": 21,
   "metadata": {
    "id": "u9xjs-X14uc0"
   },
   "outputs": [],
   "source": [
    "training_args = TrainingArguments(\r\n",
    "    output_dir= \"./train\",\r\n",
    "    do_eval = True,\r\n",
    "    do_train = True,\r\n",
    "    evaluation_strategy = 'epoch',\r\n",
    "    adam_epsilon = 1e-8,\r\n",
    "    learning_rate = 5e-5,\r\n",
    "    fp16 = False,\r\n",
    "    per_device_train_batch_size =16,\r\n",
    "    per_device_eval_batch_size = 16,\r\n",
    "    gradient_accumulation_steps = 2,\r\n",
    "    num_train_epochs= 8,\r\n",
    "    warmup_ratio =0,\r\n",
    "    save_strategy = 'epoch',\r\n",
    "    seed = 42,\r\n",
    "    lr_scheduler_type = 'cosine'\r\n",
    ")"
   ]
  },
  {
   "cell_type": "code",
   "execution_count": 22,
   "metadata": {},
   "outputs": [
    {
     "data": {
      "text/plain": "2"
     },
     "execution_count": 22,
     "metadata": {},
     "output_type": "execute_result"
    }
   ],
   "source": [
    "training_args.n_gpu"
   ]
  },
  {
   "cell_type": "code",
   "execution_count": 23,
   "metadata": {
    "id": "Ro5BW5ak4uc1"
   },
   "outputs": [
    {
     "name": "stderr",
     "output_type": "stream",
     "text": [
      "Some weights of the model checkpoint at aubmindlab/bert-base-arabertv2 were not used when initializing BertForSequenceClassification: ['cls.predictions.transform.LayerNorm.bias', 'cls.predictions.decoder.weight', 'cls.predictions.transform.dense.weight', 'cls.predictions.decoder.bias', 'cls.predictions.transform.LayerNorm.weight', 'cls.predictions.bias', 'cls.seq_relationship.weight', 'cls.seq_relationship.bias', 'cls.predictions.transform.dense.bias']\n",
      "- This IS expected if you are initializing BertForSequenceClassification from the checkpoint of a model trained on another task or with another architecture (e.g. initializing a BertForSequenceClassification model from a BertForPreTraining model).\n",
      "- This IS NOT expected if you are initializing BertForSequenceClassification from the checkpoint of a model that you expect to be exactly identical (initializing a BertForSequenceClassification model from a BertForSequenceClassification model).\n",
      "Some weights of BertForSequenceClassification were not initialized from the model checkpoint at aubmindlab/bert-base-arabertv2 and are newly initialized: ['classifier.weight', 'classifier.bias']\n",
      "You should probably TRAIN this model on a down-stream task to be able to use it for predictions and inference.\n"
     ]
    }
   ],
   "source": [
    "trainer = Trainer(\n",
    "    model = model_init(),\n",
    "    args = training_args,\n",
    "    train_dataset = train_dataset,\n",
    "    eval_dataset=test_dataset,\n",
    "    compute_metrics=compute_metrics,\n",
    ")\n"
   ]
  },
  {
   "cell_type": "code",
   "execution_count": 24,
   "metadata": {
    "id": "yx336O3J2SdQ"
   },
   "outputs": [
    {
     "name": "stderr",
     "output_type": "stream",
     "text": [
      "C:\\Users\\bwfch\\.conda\\envs\\bert\\lib\\site-packages\\transformers\\optimization.py:306: FutureWarning: This implementation of AdamW is deprecated and will be removed in a future version. Use the PyTorch implementation torch.optim.AdamW instead, or set `no_deprecation_warning=True` to disable this warning\n",
      "  warnings.warn(\n",
      "***** Running training *****\n",
      "  Num examples = 1583\n",
      "  Num Epochs = 8\n",
      "  Instantaneous batch size per device = 16\n",
      "  Total train batch size (w. parallel, distributed & accumulation) = 64\n",
      "  Gradient Accumulation steps = 2\n",
      "  Total optimization steps = 200\n",
      "  0%|          | 0/200 [00:00<?, ?it/s]C:\\Users\\bwfch\\.conda\\envs\\bert\\lib\\site-packages\\torch\\nn\\parallel\\_functions.py:65: UserWarning: Was asked to gather along dimension 0, but all input tensors were scalars; will instead unsqueeze and return a vector.\n",
      "  warnings.warn('Was asked to gather along dimension 0, but all '\n",
      "C:\\Users\\bwfch\\.conda\\envs\\bert\\lib\\site-packages\\torch\\cuda\\nccl.py:16: UserWarning: PyTorch is not compiled with NCCL support\n",
      "  warnings.warn('PyTorch is not compiled with NCCL support')\n",
      " 12%|█▎        | 25/200 [00:31<03:12,  1.10s/it]***** Running Evaluation *****\n",
      "  Num examples = 396\n",
      "  Batch size = 32\n",
      "\n",
      " 12%|█▎        | 25/200 [00:34<03:12,  1.10s/it]Saving model checkpoint to ./train\\checkpoint-25\n",
      "Configuration saved in ./train\\checkpoint-25\\config.json\n"
     ]
    },
    {
     "name": "stdout",
     "output_type": "stream",
     "text": [
      "{'eval_loss': 0.14836037158966064, 'eval_macro_f1': 0.9758879023774458, 'eval_macro_f1_per_label': 0.9758879023774458, 'eval_macro_precision': 0.9684938691980947, 'eval_macro_recall': 0.9849139188794863, 'eval_accuracy': 0.9772727272727273, 'eval_runtime': 3.0096, 'eval_samples_per_second': 131.579, 'eval_steps_per_second': 4.32, 'epoch': 1.0}\n"
     ]
    },
    {
     "name": "stderr",
     "output_type": "stream",
     "text": [
      "Model weights saved in ./train\\checkpoint-25\\pytorch_model.bin\n",
      "C:\\Users\\bwfch\\.conda\\envs\\bert\\lib\\site-packages\\torch\\nn\\parallel\\_functions.py:65: UserWarning: Was asked to gather along dimension 0, but all input tensors were scalars; will instead unsqueeze and return a vector.\n",
      "  warnings.warn('Was asked to gather along dimension 0, but all '\n",
      "C:\\Users\\bwfch\\.conda\\envs\\bert\\lib\\site-packages\\torch\\cuda\\nccl.py:16: UserWarning: PyTorch is not compiled with NCCL support\n",
      "  warnings.warn('PyTorch is not compiled with NCCL support')\n",
      " 25%|██▌       | 50/200 [01:06<02:46,  1.11s/it]***** Running Evaluation *****\n",
      "  Num examples = 396\n",
      "  Batch size = 32\n",
      "\n",
      " 25%|██▌       | 50/200 [01:09<02:46,  1.11s/it]Saving model checkpoint to ./train\\checkpoint-50\n",
      "Configuration saved in ./train\\checkpoint-50\\config.json\n"
     ]
    },
    {
     "name": "stdout",
     "output_type": "stream",
     "text": [
      "{'eval_loss': 0.07757890969514847, 'eval_macro_f1': 0.9843262475675848, 'eval_macro_f1_per_label': 0.9843262475675848, 'eval_macro_precision': 0.980004910009981, 'eval_macro_recall': 0.9889407645170702, 'eval_accuracy': 0.9848484848484849, 'eval_runtime': 2.982, 'eval_samples_per_second': 132.797, 'eval_steps_per_second': 4.36, 'epoch': 2.0}\n"
     ]
    },
    {
     "name": "stderr",
     "output_type": "stream",
     "text": [
      "Model weights saved in ./train\\checkpoint-50\\pytorch_model.bin\n",
      "C:\\Users\\bwfch\\.conda\\envs\\bert\\lib\\site-packages\\torch\\nn\\parallel\\_functions.py:65: UserWarning: Was asked to gather along dimension 0, but all input tensors were scalars; will instead unsqueeze and return a vector.\n",
      "  warnings.warn('Was asked to gather along dimension 0, but all '\n",
      "C:\\Users\\bwfch\\.conda\\envs\\bert\\lib\\site-packages\\torch\\cuda\\nccl.py:16: UserWarning: PyTorch is not compiled with NCCL support\n",
      "  warnings.warn('PyTorch is not compiled with NCCL support')\n",
      " 38%|███▊      | 75/200 [01:42<02:17,  1.10s/it]***** Running Evaluation *****\n",
      "  Num examples = 396\n",
      "  Batch size = 32\n",
      "\n",
      " 38%|███▊      | 75/200 [01:45<02:17,  1.10s/it]Saving model checkpoint to ./train\\checkpoint-75\n",
      "Configuration saved in ./train\\checkpoint-75\\config.json\n"
     ]
    },
    {
     "name": "stdout",
     "output_type": "stream",
     "text": [
      "{'eval_loss': 0.09647765010595322, 'eval_macro_f1': 0.9689198932464368, 'eval_macro_f1_per_label': 0.9689198932464368, 'eval_macro_precision': 0.9749175964780434, 'eval_macro_recall': 0.9641960898745257, 'eval_accuracy': 0.9722222222222222, 'eval_runtime': 2.9438, 'eval_samples_per_second': 134.519, 'eval_steps_per_second': 4.416, 'epoch': 3.0}\n"
     ]
    },
    {
     "name": "stderr",
     "output_type": "stream",
     "text": [
      "Model weights saved in ./train\\checkpoint-75\\pytorch_model.bin\n",
      "C:\\Users\\bwfch\\.conda\\envs\\bert\\lib\\site-packages\\torch\\nn\\parallel\\_functions.py:65: UserWarning: Was asked to gather along dimension 0, but all input tensors were scalars; will instead unsqueeze and return a vector.\n",
      "  warnings.warn('Was asked to gather along dimension 0, but all '\n",
      "C:\\Users\\bwfch\\.conda\\envs\\bert\\lib\\site-packages\\torch\\cuda\\nccl.py:16: UserWarning: PyTorch is not compiled with NCCL support\n",
      "  warnings.warn('PyTorch is not compiled with NCCL support')\n",
      " 50%|█████     | 100/200 [02:17<01:50,  1.11s/it]***** Running Evaluation *****\n",
      "  Num examples = 396\n",
      "  Batch size = 32\n",
      "\n",
      " 50%|█████     | 100/200 [02:20<01:50,  1.11s/it]Saving model checkpoint to ./train\\checkpoint-100\n",
      "Configuration saved in ./train\\checkpoint-100\\config.json\n"
     ]
    },
    {
     "name": "stdout",
     "output_type": "stream",
     "text": [
      "{'eval_loss': 0.10007987171411514, 'eval_macro_f1': 0.9782160576684067, 'eval_macro_f1_per_label': 0.9782160576684067, 'eval_macro_precision': 0.979424183747121, 'eval_macro_recall': 0.9772395681353954, 'eval_accuracy': 0.9797979797979798, 'eval_runtime': 3.0017, 'eval_samples_per_second': 131.924, 'eval_steps_per_second': 4.331, 'epoch': 4.0}\n"
     ]
    },
    {
     "name": "stderr",
     "output_type": "stream",
     "text": [
      "Model weights saved in ./train\\checkpoint-100\\pytorch_model.bin\n",
      "C:\\Users\\bwfch\\.conda\\envs\\bert\\lib\\site-packages\\torch\\nn\\parallel\\_functions.py:65: UserWarning: Was asked to gather along dimension 0, but all input tensors were scalars; will instead unsqueeze and return a vector.\n",
      "  warnings.warn('Was asked to gather along dimension 0, but all '\n",
      "C:\\Users\\bwfch\\.conda\\envs\\bert\\lib\\site-packages\\torch\\cuda\\nccl.py:16: UserWarning: PyTorch is not compiled with NCCL support\n",
      "  warnings.warn('PyTorch is not compiled with NCCL support')\n",
      " 62%|██████▎   | 125/200 [02:54<01:23,  1.11s/it]***** Running Evaluation *****\n",
      "  Num examples = 396\n",
      "  Batch size = 32\n",
      "\n",
      " 62%|██████▎   | 125/200 [02:57<01:23,  1.11s/it]Saving model checkpoint to ./train\\checkpoint-125\n",
      "Configuration saved in ./train\\checkpoint-125\\config.json\n"
     ]
    },
    {
     "name": "stdout",
     "output_type": "stream",
     "text": [
      "{'eval_loss': 0.06463334709405899, 'eval_macro_f1': 0.9870770751068181, 'eval_macro_f1_per_label': 0.9870770751068181, 'eval_macro_precision': 0.9840037190432376, 'eval_macro_recall': 0.990283046396265, 'eval_accuracy': 0.9873737373737373, 'eval_runtime': 2.9941, 'eval_samples_per_second': 132.261, 'eval_steps_per_second': 4.342, 'epoch': 5.0}\n"
     ]
    },
    {
     "name": "stderr",
     "output_type": "stream",
     "text": [
      "Model weights saved in ./train\\checkpoint-125\\pytorch_model.bin\n",
      "C:\\Users\\bwfch\\.conda\\envs\\bert\\lib\\site-packages\\torch\\nn\\parallel\\_functions.py:65: UserWarning: Was asked to gather along dimension 0, but all input tensors were scalars; will instead unsqueeze and return a vector.\n",
      "  warnings.warn('Was asked to gather along dimension 0, but all '\n",
      "C:\\Users\\bwfch\\.conda\\envs\\bert\\lib\\site-packages\\torch\\cuda\\nccl.py:16: UserWarning: PyTorch is not compiled with NCCL support\n",
      "  warnings.warn('PyTorch is not compiled with NCCL support')\n",
      " 75%|███████▌  | 150/200 [03:32<00:55,  1.11s/it]***** Running Evaluation *****\n",
      "  Num examples = 396\n",
      "  Batch size = 32\n",
      "\n",
      " 75%|███████▌  | 150/200 [03:35<00:55,  1.11s/it]Saving model checkpoint to ./train\\checkpoint-150\n",
      "Configuration saved in ./train\\checkpoint-150\\config.json\n"
     ]
    },
    {
     "name": "stdout",
     "output_type": "stream",
     "text": [
      "{'eval_loss': 0.0659913718700409, 'eval_macro_f1': 0.9841688122905513, 'eval_macro_f1_per_label': 0.9841688122905513, 'eval_macro_precision': 0.9824674797455213, 'eval_macro_recall': 0.9859352203093085, 'eval_accuracy': 0.9848484848484849, 'eval_runtime': 3.0141, 'eval_samples_per_second': 131.382, 'eval_steps_per_second': 4.313, 'epoch': 6.0}\n"
     ]
    },
    {
     "name": "stderr",
     "output_type": "stream",
     "text": [
      "Model weights saved in ./train\\checkpoint-150\\pytorch_model.bin\n",
      "C:\\Users\\bwfch\\.conda\\envs\\bert\\lib\\site-packages\\torch\\nn\\parallel\\_functions.py:65: UserWarning: Was asked to gather along dimension 0, but all input tensors were scalars; will instead unsqueeze and return a vector.\n",
      "  warnings.warn('Was asked to gather along dimension 0, but all '\n",
      "C:\\Users\\bwfch\\.conda\\envs\\bert\\lib\\site-packages\\torch\\cuda\\nccl.py:16: UserWarning: PyTorch is not compiled with NCCL support\n",
      "  warnings.warn('PyTorch is not compiled with NCCL support')\n",
      " 88%|████████▊ | 175/200 [04:09<00:27,  1.11s/it]***** Running Evaluation *****\n",
      "  Num examples = 396\n",
      "  Batch size = 32\n",
      "\n",
      " 88%|████████▊ | 175/200 [04:12<00:27,  1.11s/it]Saving model checkpoint to ./train\\checkpoint-175\n",
      "Configuration saved in ./train\\checkpoint-175\\config.json\n"
     ]
    },
    {
     "name": "stdout",
     "output_type": "stream",
     "text": [
      "{'eval_loss': 0.07619144767522812, 'eval_macro_f1': 0.9812157028157028, 'eval_macro_f1_per_label': 0.9812157028157028, 'eval_macro_precision': 0.9809412774118658, 'eval_macro_recall': 0.9815873942223519, 'eval_accuracy': 0.9823232323232324, 'eval_runtime': 3.0335, 'eval_samples_per_second': 130.543, 'eval_steps_per_second': 4.286, 'epoch': 7.0}\n"
     ]
    },
    {
     "name": "stderr",
     "output_type": "stream",
     "text": [
      "Model weights saved in ./train\\checkpoint-175\\pytorch_model.bin\n",
      "C:\\Users\\bwfch\\.conda\\envs\\bert\\lib\\site-packages\\torch\\nn\\parallel\\_functions.py:65: UserWarning: Was asked to gather along dimension 0, but all input tensors were scalars; will instead unsqueeze and return a vector.\n",
      "  warnings.warn('Was asked to gather along dimension 0, but all '\n",
      "C:\\Users\\bwfch\\.conda\\envs\\bert\\lib\\site-packages\\torch\\cuda\\nccl.py:16: UserWarning: PyTorch is not compiled with NCCL support\n",
      "  warnings.warn('PyTorch is not compiled with NCCL support')\n",
      "100%|██████████| 200/200 [04:47<00:00,  1.11s/it]***** Running Evaluation *****\n",
      "  Num examples = 396\n",
      "  Batch size = 32\n",
      "\n",
      "100%|██████████| 200/200 [04:50<00:00,  1.11s/it]Saving model checkpoint to ./train\\checkpoint-200\n",
      "Configuration saved in ./train\\checkpoint-200\\config.json\n"
     ]
    },
    {
     "name": "stdout",
     "output_type": "stream",
     "text": [
      "{'eval_loss': 0.07642978429794312, 'eval_macro_f1': 0.9812157028157028, 'eval_macro_f1_per_label': 0.9812157028157028, 'eval_macro_precision': 0.9809412774118658, 'eval_macro_recall': 0.9815873942223519, 'eval_accuracy': 0.9823232323232324, 'eval_runtime': 3.0149, 'eval_samples_per_second': 131.347, 'eval_steps_per_second': 4.312, 'epoch': 8.0}\n"
     ]
    },
    {
     "name": "stderr",
     "output_type": "stream",
     "text": [
      "Model weights saved in ./train\\checkpoint-200\\pytorch_model.bin\n",
      "\n",
      "\n",
      "Training completed. Do not forget to share your model on huggingface.co/models =)\n",
      "\n",
      "\n",
      "100%|██████████| 200/200 [04:55<00:00,  1.48s/it]"
     ]
    },
    {
     "name": "stdout",
     "output_type": "stream",
     "text": [
      "{'train_runtime': 295.3835, 'train_samples_per_second': 42.873, 'train_steps_per_second': 0.677, 'train_loss': 0.13046462059020997, 'epoch': 8.0}\n"
     ]
    },
    {
     "name": "stderr",
     "output_type": "stream",
     "text": [
      "\n"
     ]
    },
    {
     "data": {
      "text/plain": "TrainOutput(global_step=200, training_loss=0.13046462059020997, metrics={'train_runtime': 295.3835, 'train_samples_per_second': 42.873, 'train_steps_per_second': 0.677, 'train_loss': 0.13046462059020997, 'epoch': 8.0})"
     },
     "execution_count": 24,
     "metadata": {},
     "output_type": "execute_result"
    }
   ],
   "source": [
    "trainer.train()"
   ]
  },
  {
   "cell_type": "code",
   "execution_count": 25,
   "metadata": {
    "id": "Seyz8Yaj2ZCK"
   },
   "outputs": [
    {
     "name": "stderr",
     "output_type": "stream",
     "text": [
      "Saving model checkpoint to types\n",
      "Configuration saved in types\\config.json\n",
      "Model weights saved in types\\pytorch_model.bin\n"
     ]
    }
   ],
   "source": [
    "trainer.save_model(\"types\")"
   ]
  },
  {
   "cell_type": "code",
   "execution_count": 27,
   "metadata": {},
   "outputs": [
    {
     "name": "stderr",
     "output_type": "stream",
     "text": [
      "tokenizer config file saved in types\\tokenizer_config.json\n",
      "Special tokens file saved in types\\special_tokens_map.json\n"
     ]
    },
    {
     "data": {
      "text/plain": "('types\\\\tokenizer_config.json',\n 'types\\\\special_tokens_map.json',\n 'types\\\\vocab.txt',\n 'types\\\\added_tokens.json',\n 'types\\\\tokenizer.json')"
     },
     "execution_count": 27,
     "metadata": {},
     "output_type": "execute_result"
    }
   ],
   "source": [
    "train_dataset.tokenizer.save_pretrained(\"types\")"
   ]
  },
  {
   "cell_type": "code",
   "execution_count": null,
   "metadata": {},
   "outputs": [],
   "source": []
  }
 ],
 "metadata": {
  "kernelspec": {
   "display_name": "Python 3.8.8 64-bit ('bert': conda)",
   "name": "python388jvsc74a57bd09b38f1593ad7dd64f402ccd3b423890c60e6d8a55a473b76b65dfd0e48e92f76"
  },
  "language_info": {
   "codemirror_mode": {
    "name": "ipython",
    "version": 3
   },
   "file_extension": ".py",
   "mimetype": "text/x-python",
   "name": "python",
   "nbconvert_exporter": "python",
   "pygments_lexer": "ipython3",
   "version": "3.8.8"
  },
  "orig_nbformat": 3
 },
 "nbformat": 4,
 "nbformat_minor": 1
}