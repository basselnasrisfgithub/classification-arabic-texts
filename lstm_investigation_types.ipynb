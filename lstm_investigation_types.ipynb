{
 "cells": [
  {
   "cell_type": "code",
   "execution_count": 35,
   "metadata": {},
   "outputs": [],
   "source": [
    "\n",
    "import numpy as np \n",
    "import pandas as pd\n",
    "import matplotlib.pyplot as plt\n",
    "import seaborn as sns\n",
    "from keras.preprocessing.text import Tokenizer\n",
    "from keras.preprocessing.sequence import pad_sequences\n",
    "from keras.models import Sequential\n",
    "from keras.layers import Dense, Embedding, LSTM, SpatialDropout1D\n",
    "from sklearn.model_selection import train_test_split\n",
    "from keras.utils.np_utils import to_categorical\n",
    "from keras.callbacks import EarlyStopping\n",
    "from keras.layers import Dropout\n",
    "import re\n",
    "from nltk.corpus import stopwords\n",
    "from nltk import word_tokenize\n",
    "STOPWORDS = set(stopwords.words('arabic'))\n",
    "from bs4 import BeautifulSoup\n",
    "#import plotly.graph_objs as go\n",
    "#import plotly.plotly as py\n",
    "#import cufflinks\n",
    "#from IPython.core.interactiveshell import InteractiveShell\n",
    "#import plotly.figure_factory as ff\n",
    "#InteractiveShell.ast_node_interactivity = 'all'\n",
    "#from plotly.offline import iplot\n",
    "#cufflinks.go_offline()\n",
    "#cufflinks.set_config_file(world_readable=True, theme='pearl')"
   ]
  },
  {
   "cell_type": "code",
   "execution_count": 24,
   "metadata": {},
   "outputs": [
    {
     "name": "stdout",
     "output_type": "stream",
     "text": [
      "   tags                                               post\n",
      "1     3  محضر تحقيق بادعاء المدعوة اسما هدى انيس قساطلي...\n",
      "2     4  محضر تحقيق بحق المدعو ماهر صالح الحرامي سوري ل...\n",
      "3     1  محضر بتنفيذ خلاصة حكم بحق المدعو محمد سعد الدي...\n",
      "4     2  محضر بتنفيذ قرار جزائي بحق المدعو محمد سعد الد...\n"
     ]
    }
   ],
   "source": [
    "#readind and preparing data ( text , label )\n",
    "import os, sys\n",
    "import pandas as pd\n",
    "import numpy as np\n",
    "df=pd.read_excel('ML1.xlsx', header=None) ## read le file\n",
    "df.columns=['tags','post']\n",
    "print(df[1:5])"
   ]
  },
  {
   "cell_type": "code",
   "execution_count": 43,
   "metadata": {},
   "outputs": [],
   "source": [
    "df = df.reset_index(drop=True)\n",
    "REPLACE_BY_SPACE_RE = re.compile('[/(){}\\[\\]\\|@,;]')\n",
    "BAD_SYMBOLS_RE = re.compile('[^0-9ا-ي #+_]')\n",
    "STOPWORDS = set(stopwords.words('arabic'))\n",
    "\n",
    "def clean_text(text):\n",
    "    \"\"\"\n",
    "        text: a string\n",
    "        \n",
    "        return: modified initial string\n",
    "    \"\"\"\n",
    "    #text = text.lower() # lowercase text\n",
    "    text = REPLACE_BY_SPACE_RE.sub(' ', text) # replace REPLACE_BY_SPACE_RE symbols by space in text. substitute the matched string in REPLACE_BY_SPACE_RE with space.\n",
    "    text = BAD_SYMBOLS_RE.sub('', text) # remove symbols which are in BAD_SYMBOLS_RE from text. substitute the matched string in BAD_SYMBOLS_RE with nothing. \n",
    "    text = text.replace('x', '')\n",
    "#    text = re.sub(r'\\W+', '', text)\n",
    "    text = ' '.join(word for word in text.split() if word not in STOPWORDS) # remove stopwors from text\n",
    "    return text\n",
    "df['post'] = df['post'].apply(clean_text)"
   ]
  },
  {
   "cell_type": "code",
   "execution_count": 47,
   "metadata": {},
   "outputs": [
    {
     "name": "stdout",
     "output_type": "stream",
     "text": [
      "{'ذواتي', 'كلما', 'بهن', 'إي', 'متى', 'لها', 'هاتان', 'منه', 'أو', 'آها', 'حين', 'منها', 'هذان', 'لك', 'هي', 'إذ', 'هيت', 'لدى', 'غير', 'لاسيما', 'هناك', 'هاك', 'ذلكما', 'يا', 'هذين', 'عما', 'هكذا', 'بكم', 'وإن', 'اللاتي', 'بماذا', 'إليك', 'أقل', 'فمن', 'لكي', 'بيد', 'ثم', 'ذات', 'بما', 'عليك', 'عليه', 'أنتن', 'ذي', 'ثمة', 'لسنا', 'شتان', 'بنا', 'كي', 'لكما', 'ليس', 'ممن', 'هاتي', 'عل', 'كلاهما', 'اللتان', 'هلا', 'وهو', 'إما', 'ذاك', 'كأنما', 'كذا', 'لنا', 'لئن', 'بخ', 'اللتين', 'هؤلاء', 'وإذ', 'فإن', 'إيه', 'هذا', 'إذما', 'أي', 'بل', 'حاشا', 'حتى', 'حيث', 'لكم', 'إذا', 'مع', 'لهن', 'مه', 'كأن', 'سوف', 'إنما', 'ليت', 'بها', 'ماذا', 'هيهات', 'بك', 'ذواتا', 'ألا', 'ذو', 'هاته', 'أنا', 'أولاء', 'ولكن', 'لستم', 'اللذان', 'ذلكم', 'ومن', 'وإذا', 'عند', 'به', 'كليهما', 'لم', 'ليسا', 'ذه', 'أولئك', 'ذا', 'لا', 'نحن', 'ليست', 'كيف', 'كلتا', 'أوه', 'حبذا', 'إلا', 'الذي', 'سوى', 'وما', 'آي', 'اللائي', 'كم', 'بهم', 'هذي', 'لوما', 'أنتم', 'نعم', 'أف', 'أكثر', 'هاهنا', 'ذينك', 'إلى', 'أين', 'في', 'كيت', 'لست', 'ولو', 'ذوا', 'عن', 'ليستا', 'إليكن', 'ها', 'أنت', 'لسن', 'التي', 'مذ', 'هيا', 'لكنما', 'إذن', 'إن', 'بمن', 'تلكما', 'نحو', 'ذلك', 'له', 'هل', 'هو', 'هاتين', 'بس', 'ته', 'لما', 'ليسوا', 'إنا', 'آه', 'كذلك', 'لكيلا', 'أينما', 'كل', 'ذلكن', 'ما', 'كلا', 'أما', 'ذان', 'لي', 'اللذين', 'دون', 'تلكم', 'أنتما', 'هذه', 'هم', 'بي', 'كما', 'قد', 'لعل', 'إليكما', 'تين', 'لكن', 'اللواتي', 'حيثما', 'كيفما', 'لن', 'منذ', 'لولا', 'لستما', 'بلى', 'كليكما', 'كأين', 'أم', 'بعض', 'والذين', 'والذي', 'إليكم', 'فيه', 'تينك', 'اللتيا', 'لهما', 'بكما', 'بهما', 'فيها', 'مما', 'بين', 'كأي', 'أنى', 'هما', 'إنه', 'بعد', 'بكن', 'تلك', 'لهم', 'لو', 'من', 'هنالك', 'فلا', 'ولا', 'ريث', 'ذانك', 'الذين', 'تي', 'فإذا', 'أيها', 'فيما', 'مهما', 'عسى', 'فيم', 'هنا', 'على', 'هن', 'عدا', 'ذين', 'خلا', 'لستن', 'أن'}\n"
     ]
    }
   ],
   "source": [
    "print(STOPWORDS)"
   ]
  },
  {
   "cell_type": "code",
   "execution_count": 50,
   "metadata": {},
   "outputs": [
    {
     "name": "stdout",
     "output_type": "stream",
     "text": [
      "  لم اذهب ليس\n"
     ]
    }
   ],
   "source": [
    "print((BAD_SYMBOLS_RE).sub('','djshin ainjk لم اذهب أليس'))"
   ]
  },
  {
   "cell_type": "code",
   "execution_count": 44,
   "metadata": {},
   "outputs": [
    {
     "name": "stdout",
     "output_type": "stream",
     "text": [
      "1    محضر تحقيق بادعا المدعوة اسما هدى انيس قساطلي ...\n",
      "2    محضر تحقيق بحق المدعو ماهر صالح الحرامي سوري ل...\n",
      "3    محضر بتنفيذ خلاصة حكم بحق المدعو محمد سعد الدي...\n",
      "4    محضر بتنفيذ قرار جزاي بحق المدعو محمد سعد الدي...\n",
      "Name: post, dtype: object\n"
     ]
    }
   ],
   "source": [
    "print(df['post'][1:5])"
   ]
  },
  {
   "cell_type": "code",
   "execution_count": 30,
   "metadata": {},
   "outputs": [
    {
     "name": "stdout",
     "output_type": "stream",
     "text": [
      "Found 4593 unique tokens.\n"
     ]
    }
   ],
   "source": [
    "# The maximum number of words to be used. (most frequent)\n",
    "MAX_NB_WORDS = 50000\n",
    "# Max number of words in each complaint.\n",
    "MAX_SEQUENCE_LENGTH = 250\n",
    "# This is fixed.\n",
    "EMBEDDING_DIM = 100\n",
    "\n",
    "tokenizer = Tokenizer(num_words=MAX_NB_WORDS, filters='!\"#$%&()*+,-./:;<=>?@[\\]^_`{|}~', lower=True)\n",
    "tokenizer.fit_on_texts(df['post'].values)\n",
    "word_index = tokenizer.word_index\n",
    "print('Found %s unique tokens.' % len(word_index))"
   ]
  },
  {
   "cell_type": "code",
   "execution_count": 31,
   "metadata": {},
   "outputs": [
    {
     "name": "stdout",
     "output_type": "stream",
     "text": [
      "Shape of data tensor: (1979, 250)\n"
     ]
    }
   ],
   "source": [
    "X = tokenizer.texts_to_sequences(df['post'].values)\n",
    "X = pad_sequences(X, maxlen=MAX_SEQUENCE_LENGTH)\n",
    "print('Shape of data tensor:', X.shape)"
   ]
  },
  {
   "cell_type": "code",
   "execution_count": 32,
   "metadata": {},
   "outputs": [
    {
     "name": "stdout",
     "output_type": "stream",
     "text": [
      "Shape of label tensor: (1979, 5)\n"
     ]
    }
   ],
   "source": [
    "Y = pd.get_dummies(df['tags']).values\n",
    "print('Shape of label tensor:', Y.shape)"
   ]
  },
  {
   "cell_type": "code",
   "execution_count": 33,
   "metadata": {},
   "outputs": [
    {
     "name": "stdout",
     "output_type": "stream",
     "text": [
      "(1781, 250) (1781, 5)\n",
      "(198, 250) (198, 5)\n"
     ]
    }
   ],
   "source": [
    "X_train, X_test, Y_train, Y_test = train_test_split(X,Y, test_size = 0.10, random_state = 42)\n",
    "print(X_train.shape,Y_train.shape)\n",
    "print(X_test.shape,Y_test.shape)"
   ]
  },
  {
   "cell_type": "code",
   "execution_count": 38,
   "metadata": {},
   "outputs": [
    {
     "name": "stdout",
     "output_type": "stream",
     "text": [
      "_________________________________________________________________\n",
      "Layer (type)                 Output Shape              Param #   \n",
      "=================================================================\n",
      "embedding_2 (Embedding)      (None, 250, 100)          5000000   \n",
      "_________________________________________________________________\n",
      "spatial_dropout1d_3 (Spatial (None, 250, 100)          0         \n",
      "_________________________________________________________________\n",
      "lstm_2 (LSTM)                (None, 100)               80400     \n",
      "_________________________________________________________________\n",
      "dense_2 (Dense)              (None, 5)                 505       \n",
      "=================================================================\n",
      "Total params: 5,080,905\n",
      "Trainable params: 5,080,905\n",
      "Non-trainable params: 0\n",
      "_________________________________________________________________\n",
      "None\n"
     ]
    }
   ],
   "source": [
    "model = Sequential()\n",
    "model.add(Embedding(MAX_NB_WORDS, EMBEDDING_DIM, input_length=X.shape[1]))\n",
    "model.add(SpatialDropout1D(0.2))\n",
    "model.add(LSTM(100, dropout=0.2, recurrent_dropout=0.2))\n",
    "model.add(Dense(5, activation='softmax'))\n",
    "model.compile(loss='categorical_crossentropy', optimizer='adam', metrics=['accuracy'])\n",
    "print(model.summary())\n"
   ]
  },
  {
   "cell_type": "code",
   "execution_count": 39,
   "metadata": {},
   "outputs": [
    {
     "name": "stdout",
     "output_type": "stream",
     "text": [
      "WARNING:tensorflow:From C:\\Users\\Maya\\Anaconda3\\lib\\site-packages\\tensorflow\\python\\ops\\math_ops.py:3066: to_int32 (from tensorflow.python.ops.math_ops) is deprecated and will be removed in a future version.\n",
      "Instructions for updating:\n",
      "Use tf.cast instead.\n",
      "Train on 1602 samples, validate on 179 samples\n",
      "Epoch 1/5\n",
      "1602/1602 [==============================] - 11s 7ms/step - loss: 1.4672 - acc: 0.4757 - val_loss: 1.1980 - val_acc: 0.6201\n",
      "Epoch 2/5\n",
      "1602/1602 [==============================] - 9s 5ms/step - loss: 0.8543 - acc: 0.6785 - val_loss: 0.6034 - val_acc: 0.6927\n",
      "Epoch 3/5\n",
      "1602/1602 [==============================] - 9s 6ms/step - loss: 0.4752 - acc: 0.7809 - val_loss: 0.4627 - val_acc: 0.8436\n",
      "Epoch 4/5\n",
      "1602/1602 [==============================] - 9s 6ms/step - loss: 0.3283 - acc: 0.8770 - val_loss: 0.3835 - val_acc: 0.8603\n",
      "Epoch 5/5\n",
      "1602/1602 [==============================] - 9s 6ms/step - loss: 0.2335 - acc: 0.9220 - val_loss: 0.3216 - val_acc: 0.9162\n"
     ]
    }
   ],
   "source": [
    "epochs = 5\n",
    "batch_size = 64\n",
    "\n",
    "history = model.fit(X_train, Y_train, epochs=epochs, batch_size=batch_size,validation_split=0.1,callbacks=[EarlyStopping(monitor='val_loss', patience=3, min_delta=0.0001)])"
   ]
  },
  {
   "cell_type": "code",
   "execution_count": 40,
   "metadata": {},
   "outputs": [
    {
     "name": "stdout",
     "output_type": "stream",
     "text": [
      "198/198 [==============================] - 0s 2ms/step\n",
      "Test set\n",
      "  Loss: 0.193\n",
      "  Accuracy: 0.960\n"
     ]
    }
   ],
   "source": [
    "accr = model.evaluate(X_test,Y_test)\n",
    "print('Test set\\n  Loss: {:0.3f}\\n  Accuracy: {:0.3f}'.format(accr[0],accr[1]))"
   ]
  },
  {
   "cell_type": "code",
   "execution_count": 51,
   "metadata": {},
   "outputs": [
    {
     "data": {
      "image/png": "[encoded data removed]",
      "text/plain": [
       "<Figure size 432x288 with 1 Axes>"
      ]
     },
     "metadata": {
      "needs_background": "light"
     },
     "output_type": "display_data"
    }
   ],
   "source": [
    "plt.title('Loss')\n",
    "plt.plot(history.history['loss'], label='train')\n",
    "plt.plot(history.history['val_loss'], label='test')\n",
    "plt.legend()\n",
    "plt.show();"
   ]
  },
  {
   "cell_type": "code",
   "execution_count": 52,
   "metadata": {},
   "outputs": [
    {
     "data": {
      "image/png": "[encoded data removed]",
      "text/plain": [
       "<Figure size 432x288 with 1 Axes>"
      ]
     },
     "metadata": {
      "needs_background": "light"
     },
     "output_type": "display_data"
    }
   ],
   "source": [
    "plt.title('Accuracy')\n",
    "plt.plot(history.history['acc'], label='train')\n",
    "plt.plot(history.history['val_acc'], label='test')\n",
    "plt.legend()\n",
    "plt.show();"
   ]
  }
 ],
 "metadata": {
  "kernelspec": {
   "display_name": "Python 3",
   "language": "python",
   "name": "python3"
  },
  "language_info": {
   "codemirror_mode": {
    "name": "ipython",
    "version": 3
   },
   "file_extension": ".py",
   "mimetype": "text/x-python",
   "name": "python",
   "nbconvert_exporter": "python",
   "pygments_lexer": "ipython3",
   "version": "3.7.1"
  }
 },
 "nbformat": 4,
 "nbformat_minor": 2
}
