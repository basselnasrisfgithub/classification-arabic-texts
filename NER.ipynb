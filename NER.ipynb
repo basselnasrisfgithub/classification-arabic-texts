{
 "cells": [
  {
   "cell_type": "code",
   "execution_count": 4,
   "metadata": {},
   "outputs": [
    {
     "name": "stderr",
     "output_type": "stream",
     "text": [
      "[nltk_data] Downloading package stopwords to\n",
      "[nltk_data]     C:\\Users\\Maya\\AppData\\Roaming\\nltk_data...\n",
      "[nltk_data]   Package stopwords is already up-to-date!\n"
     ]
    }
   ],
   "source": [
    "import os\n",
    "from nltk.parse import stanford as SParse\n",
    "from nltk.tag import stanford as STag\n",
    "from nltk.tokenize import StanfordSegmenter\n",
    "\n",
    "from polyglot.text import Text\n",
    "from rake_nltk import Rake\n",
    "\n",
    "import nltk\n",
    "nltk.download('stopwords')\n",
    "from nltk.corpus import stopwords\n",
    "\n",
    "os.environ['STANFORD_MODELS'] = 'stanford-segmenter-2018-10-16/data/;stanford-postagger-full-2018-10-16/models/'\n",
    "os.environ['STANFORD_PARSER'] = 'stanford-parser-full-2018-10-17'\n",
    "os.environ['CLASSPATH'] = 'stanford-parser-full-2018-10-17'\n",
    "os.environ['JAVAHOME'] = 'C:/Program Files/Java/jdk1.8.0_60'"
   ]
  },
  {
   "cell_type": "code",
   "execution_count": 2,
   "metadata": {},
   "outputs": [],
   "source": [
    "import numpy as np\n",
    "import csv\n",
    "import pandas as pd\n",
    "\n",
    "data=pd.read_excel('ml2.xlsx', header=None) ## read le file\n",
    "data.columns=['text2','label']\n"
   ]
  },
  {
   "cell_type": "code",
   "execution_count": 50,
   "metadata": {},
   "outputs": [
    {
     "name": "stdout",
     "output_type": "stream",
     "text": [
      "محضر تحقيق بالشكوى المقدمة بنك الشرق ضد جوزف عبدو سعد بجرم شك دون رصيد.|حول ادعاء طوني يارد ضد مجهول بجرم سرقة محفظته|محضر تحقيق فوري بتوقيف اللبناني فارس ورده بجرم تعاطي مادة حشيشة الكيف.|محضر تحقيق بإدعاء حسام حسين قبيسي ضد المدعى عليهما كريم زهير الذهبي والمدعى عليه محمد عبد الغني علوان بجرم شك دون رصيد |محضر تحقيق بادعاء اصحاب الاقسام المختلفة في العقار رقم 1972 منطقة المصيطبة العقارية ضد اصحاب العقار 1971 منطقة المصيطبة العقارية حول اقفال طريق خاص |محضر بتوقيف علي اسماعيل عواضة بجرم حيازة مواد مخدرة.|محضر تحقيق بادعاء  المدعو خضر الخضر سوري الجنسية ضد صبري محمد سوري الجنسية بجرم الضرب والايذاء |محضر تحقيق بادعاء فواز محمد ابو عمر/ لبناني ضد مجهولين بجرم سرقة بواسطة الكسر والخلع. |محضر سرقة دراجة نارية باسم المدعو عيسى عقلة المحمد سوري الجنسية \n"
     ]
    },
    {
     "name": "stderr",
     "output_type": "stream",
     "text": [
      "C:\\Users\\Maya\\Anaconda3\\lib\\site-packages\\ipykernel_launcher.py:9: DeprecationWarning: \n",
      "The StanfordTokenizer will be deprecated in version 3.2.5.\n",
      "Please use \u001b[91mnltk.parse.corenlp.CoreNLPTokenizer\u001b[0m instead.'\n",
      "  if __name__ == '__main__':\n"
     ]
    },
    {
     "name": "stdout",
     "output_type": "stream",
     "text": [
      "محضر تحقيق ب الشكوى المقدمة بنك الشرق ضد جوزف عبدو سعد ب جرم شك دون رصيد .| حول ادعاء طوني يارد ضد مجهول ب جرم سرقة محفظة ه | محضر تحقيق فوري ب توقيف اللبناني فارس ورد ه ب جرم تعاطي مادة حشيشة الكيف .| محضر تحقيق ب ادعاء حسام حسين قبيسي ضد المدعى على هما كريم زهير الذهبي و المدعى على ه محمد عبد الغني علوان ب جرم شك دون رصيد | محضر تحقيق ب ادعاء اصحاب الاقسام المختلفة في العقار رقم 1972 منطقة المصيطبة العقارية ضد اصحاب العقار 1971 منطقة المصيطبة العقارية حول اقفال طريق خاص | محضر ب توقيف علي اسماعيل عواضة ب جرم حيازة مواد مخدرة .| محضر تحقيق ب ادعاء المدعو خضر الخضر سوري الجنسية ضد صبري محمد سوري الجنسية ب جرم الضرب و الايذاء | محضر تحقيق ب ادعاء فواز محمد ابو عمر / لبناني ضد مجهولين ب جرم سرقة ب واسطة الكسر و الخلع . | محضر سرقة دراجة نارية ب اسم المدعو عيسى عقلة المحمد سوري الجنسية\r\n",
      "\n"
     ]
    }
   ],
   "source": [
    "subData = data['text2']\n",
    "subData = subData[1:10]\n",
    "singleTextWithPips = '|'.join(subData)\n",
    "print(singleTextWithPips)\n",
    "f = open(\"samplePips.txt\", \"w\",  encoding='utf-8')\n",
    "f.write(singleTextWithPips)\n",
    "f.close()\n",
    "\n",
    "segmenter = StanfordSegmenter('stanford-segmenter-2018-10-16/stanford-segmenter-3.9.2.jar')\n",
    "segmenter.default_config('ar')\n",
    "text = segmenter.segment_file('samplePips.txt')\n",
    "print(text)\n"
   ]
  },
  {
   "cell_type": "code",
   "execution_count": 61,
   "metadata": {},
   "outputs": [
    {
     "name": "stdout",
     "output_type": "stream",
     "text": [
      "[' محضر تحقيق ب ادعاء حسام حسين قبيسي ضد المدعى على هما كريم زهير الذهبي و المدعى على ه محمد عبد الغني علوان ب جرم شك دون رصيد ', ' محضر تحقيق ب ادعاء اصحاب الاقسام المختلفة في العقار رقم 1972 منطقة المصيطبة العقارية ضد اصحاب العقار 1971 منطقة المصيطبة العقارية حول اقفال طريق خاص ', ' محضر ب توقيف علي اسماعيل عواضة ب جرم حيازة مواد مخدرة .', ' محضر تحقيق ب ادعاء المدعو خضر الخضر سوري الجنسية ضد صبري محمد سوري الجنسية ب جرم الضرب و الايذاء ', ' محضر تحقيق ب ادعاء فواز محمد ابو عمر / لبناني ضد مجهولين ب جرم سرقة ب واسطة الكسر و الخلع . ']\n"
     ]
    }
   ],
   "source": [
    "text3=text.split('|')\n",
    "print(text3[3:8])"
   ]
  },
  {
   "cell_type": "code",
   "execution_count": 115,
   "metadata": {},
   "outputs": [
    {
     "name": "stdout",
     "output_type": "stream",
     "text": [
      "،\n",
      "ء\n",
      "ءَ\n",
      "آ\n",
      "آ\n",
      "['محضر', 'تحقيق', 'الشكوى', 'المقدمة', 'بنك', 'الشرق']\n"
     ]
    }
   ],
   "source": [
    "with open('stopwordsarabic.txt', encoding='utf-8') as f:\n",
    "    stopwordsarabic = f.read()\n",
    "print(stopwordsarabic[:10])\n",
    "from nltk.tokenize import word_tokenize\n",
    "tokens = word_tokenize(text[:40])\n",
    "result = [i for i in tokens if not i in stopwordsarabic]\n",
    "print (result)"
   ]
  },
  {
   "cell_type": "code",
   "execution_count": 133,
   "metadata": {},
   "outputs": [
    {
     "data": {
      "text/plain": [
       "'محضر تحقيق ب الشكوى المقدمة بنك الشرق ضد'"
      ]
     },
     "execution_count": 133,
     "metadata": {},
     "output_type": "execute_result"
    }
   ],
   "source": [
    "text[:40]"
   ]
  },
  {
   "cell_type": "code",
   "execution_count": 85,
   "metadata": {},
   "outputs": [
    {
     "name": "stdout",
     "output_type": "stream",
     "text": [
      "[' محضر تحقيق ب ادعاء اصحاب الاقسام المختلفة في العقار رقم 1972 منطقة المصيطبة العقارية ضد اصحاب العقار 1971 منطقة المصيطبة العقارية حول اقفال طريق خاص ']\n",
      "[' محضر تحقيق ب ادعاء اصحاب الاقسام المختلفة في العقار رقم  منطقة المصيطبة العقارية ضد اصحاب العقار  منطقة المصيطبة العقارية حول اقفال طريق خاص ']\n"
     ]
    }
   ],
   "source": [
    "import re\n",
    "print(text3[4:5])\n",
    "result = re.sub(r'\\d+', '', str(text3[4:5]))\n",
    "print(result)"
   ]
  },
  {
   "cell_type": "code",
   "execution_count": 101,
   "metadata": {},
   "outputs": [
    {
     "name": "stdout",
     "output_type": "stream",
     "text": [
      "محضر تحقيق ب الشكوى المقدمة بنك الشرق ضد جوزف عبدو سعد ب جرم شك دون رصيد .| حول ادعاء طوني يارد ضد مجهول ب جرم سرقة محفظة ه | محضر تحقيق فوري ب توقيف اللبناني فارس ورد ه ب جرم تعاطي مادة حشيشة الكيف .| محضر تحقيق ب ادعاء حسام حسين قبيسي ضد المدعى على هما كريم زهير الذهبي و المدعى على ه محمد عبد الغني علوان ب جرم شك دون رصيد | محضر تحقيق ب ادعاء اصحاب الاقسام المختلفة في العقار رقم 1972 منطقة المصيطبة العقارية ضد اصحاب العقار 1971 منطقة المصيطبة العقارية حول اقفال طريق خاص | محضر ب توقيف علي اسماعيل عواضة ب جرم حيازة مواد مخدرة .| محضر تحقيق ب ادعاء المدعو خضر الخضر سوري الجنسية ضد صبري محمد سوري الجنسية ب جرم الضرب و الايذاء | محضر تحقيق ب ادعاء فواز محمد ابو عمر / لبناني ضد مجهولين ب جرم سرقة ب واسطة الكسر و الخلع . | محضر سرقة دراجة نارية ب اسم المدعو عيسى عقلة المحمد سوري الجنسية\r\n",
      "\n",
      "محضر تحقيق ب الشكوى المقدمة بنك الشرق ضد جوزف عبدو سعد ب جرم شك دون رصيد .| حول ادعاء طوني يارد ضد مجهول ب جرم سرقة محفظة ه | محضر تحقيق فوري ب توقيف اللبناني فارس ورد ه ب جرم تعاطي مادة حشيشة الكيف .| محضر تحقيق ب ادعاء حسام حسين قبيسي ضد المدعى على هما كريم زهير الذهبي و المدعى على ه محمد عبد الغني علوان ب جرم شك دون رصيد | محضر تحقيق ب ادعاء اصحاب الاقسام المختلفة في العقار رقم 1972 منطقة المصيطبة العقارية ضد اصحاب العقار 1971 منطقة المصيطبة العقارية حول اقفال طريق خاص | محضر ب توقيف علي اسماعيل عواضة ب جرم حيازة مواد مخدرة .| محضر تحقيق ب ادعاء المدعو خضر الخضر سوري الجنسية ضد صبري محمد سوري الجنسية ب جرم الضرب و الايذاء | محضر تحقيق ب ادعاء فواز محمد ابو عمر / لبناني ضد مجهولين ب جرم سرقة ب واسطة الكسر و الخلع . | محضر سرقة دراجة نارية ب اسم المدعو عيسى عقلة المحمد سوري الجنسية\r\n",
      "\n"
     ]
    }
   ],
   "source": [
    "import string\n",
    "print(text)\n",
    "search = [\"أ\",\"إ\",\"آ\",\"ة\",\"_\",\"-\",\"/\",\".\",\"،\",\" و \",\" يا \",'\"',\"ـ\",\"'\",\"ى\",\"\\\\\",'\\n', '\\t','&quot;','?','؟','!']\n",
    "replace = [\"ا\",\"ا\",\"ا\",\"ه\",\" \",\" \",\"\",\"\",\"\",\" و\",\" يا\",\"\",\"\",\"\",\"ي\",\"\",' ', ' ',' ',' ? ',' ؟ ',' ! ']\n",
    "for i in range(0, len(search)):\n",
    "        text8 = text.replace(search[i], replace[i])\n",
    "print(text8)\n",
    "    \n",
    "\n",
    "#result = str(text3[8:9]).translate(string.maketrans('',''), string.punctuation)\n",
    "#print(result)"
   ]
  },
  {
   "cell_type": "markdown",
   "metadata": {},
   "source": [
    "antoine=data['text2']\n",
    "segmenter = StanfordSegmenter('stanford-segmenter-2018-10-16/stanford-segmenter-3.9.2.jar')\n",
    "segmenter.default_config('ar')\n",
    "def prep(doc):\n",
    "   # words=str(doc).strip().split()\n",
    "    words=[segmenter.segment_sents(w) for w in words]\n",
    "    return ' '.join(words)\n",
    "\n",
    "#stanford = antoine[5:7].apply(prep)\n",
    "print(antoine[5:7])\n",
    "text = segmenter.segment_sents(antoine[5:7])\n",
    "print(text)"
   ]
  },
  {
   "cell_type": "markdown",
   "metadata": {},
   "source": [
    "segmenter = StanfordSegmenter('stanford-segmenter-2018-10-16/stanford-segmenter-3.9.2.jar')\n",
    "segmenter.default_config('ar')\n",
    "text = segmenter.segment_file('sample.txt')\n",
    "print(text)"
   ]
  },
  {
   "cell_type": "code",
   "execution_count": 66,
   "metadata": {},
   "outputs": [
    {
     "name": "stdout",
     "output_type": "stream",
     "text": [
      "محضر/NN\n",
      "تحقيق/NN\n",
      "ب/IN\n",
      "الشكوى/DTNN\n",
      "المقدمة/DTJJ\n",
      "بنك/NN\n",
      "الشرق/DTNN\n",
      "ضد/NN\n",
      "جوزف/NNP\n",
      "عبدو/NNP\n",
      "سعد/NNP\n",
      "ب/IN\n",
      "جرم/NN\n",
      "شك/NN\n",
      "دون/NN\n",
      "رصيد/NN\n",
      "./PUNC\n",
      "حول/NN\n",
      "ادعاء/VBG\n",
      "طوني/NNP\n",
      "يارد/NNP\n",
      "ضد/NN\n",
      "مجهول/JJ\n",
      "ب/IN\n",
      "جرم/NN\n",
      "سرقة/NN\n",
      "محفظة/NN\n",
      "ه/PRP$\n",
      "محضر/NN\n",
      "تحقيق/NN\n",
      "فوري/JJ\n",
      "ب/IN\n",
      "توقيف/NN\n",
      "اللبناني/DTNN\n",
      "فارس/NNP\n",
      "ورد/VBD\n",
      "ه/PRP\n",
      "ب/IN\n",
      "جرم/NN\n",
      "تعاطي/NN\n",
      "مادة/NN\n",
      "حشيشة/NN\n",
      "الكيف/DTNN\n",
      "./PUNC\n",
      "محضر/NN\n",
      "تحقيق/NN\n",
      "ب/IN\n",
      "ادعاء/NN\n",
      "حسام/NNP\n",
      "حسين/NNP\n",
      "قبيسي/NNP\n",
      "ضد/NN\n",
      "المدعى/DTNN\n",
      "على/IN\n",
      "هما/PRP\n",
      "كريم/NNP\n",
      "زهير/NNP\n",
      "الذهبي/DTNNP\n",
      "و/CC\n",
      "المدعى/DTNN\n",
      "على/IN\n",
      "ه/PRP\n",
      "محمد/NNP\n",
      "عبد/NNP\n",
      "الغني/DTNNP\n",
      "علوان/NNP\n",
      "ب/IN\n",
      "جرم/NN\n",
      "شك/NN\n",
      "دون/NN\n",
      "رصيد/NN\n",
      "محضر/NN\n",
      "تحقيق/NN\n",
      "ب/IN\n",
      "ادعاء/VBG\n",
      "اصحاب/NN\n",
      "الاقسام/DTNN\n",
      "المختلفة/DTJJ\n",
      "في/IN\n",
      "العقار/DTNN\n",
      "رقم/NN\n",
      "1972/CD\n",
      "منطقة/NN\n",
      "المصيطبة/DTNNP\n",
      "العقارية/DTJJ\n",
      "ضد/NN\n",
      "اصحاب/NN\n",
      "العقار/DTNN\n",
      "1971/CD\n",
      "منطقة/NN\n",
      "المصيطبة/DTNNP\n",
      "العقارية/DTJJ\n",
      "حول/NN\n",
      "اقفال/NN\n",
      "طريق/NN\n",
      "خاص/JJ\n",
      "محضر/NN\n",
      "ب/IN\n",
      "توقيف/NN\n",
      "علي/IN\n",
      "اسماعيل/NNP\n",
      "عواضة/NNP\n",
      "ب/IN\n",
      "جرم/NN\n",
      "حيازة/NN\n",
      "مواد/NN\n",
      "مخدرة/JJ\n",
      "./PUNC\n",
      "محضر/NN\n",
      "تحقيق/NN\n",
      "ب/IN\n",
      "ادعاء/NN\n",
      "المدعو/DTNN\n",
      "خضر/NNP\n",
      "الخضر/DTNNP\n",
      "سوري/JJ\n",
      "الجنسية/DTNN\n",
      "ضد/NN\n",
      "صبري/NNP\n",
      "محمد/NNP\n",
      "سوري/JJ\n",
      "الجنسية/DTNN\n",
      "ب/IN\n",
      "جرم/NN\n",
      "الضرب/DTNN\n",
      "و/CC\n",
      "الايذاء/DTNN\n",
      "محضر/NN\n",
      "تحقيق/NN\n",
      "ب/IN\n",
      "ادعاء/NN\n",
      "فواز/NNP\n",
      "محمد/NNP\n",
      "ابو/NNP\n",
      "عمر/NNP\n",
      "//PUNC\n",
      "لبناني/JJ\n",
      "ضد/NN\n",
      "مجهولين/NNS\n",
      "ب/IN\n",
      "جرم/NN\n",
      "سرقة/NN\n",
      "ب/IN\n",
      "واسطة/NN\n",
      "الكسر/DTNN\n",
      "و/CC\n",
      "الخلع/DTNN\n",
      "./PUNC\n",
      "محضر/NN\n",
      "سرقة/NN\n",
      "دراجة/NN\n",
      "نارية/JJ\n",
      "ب/IN\n",
      "اسم/NN\n",
      "المدعو/DTNN\n",
      "عيسى/NNP\n",
      "عقلة/NN\n",
      "المحمد/DTNN\n",
      "سوري/JJ\n",
      "الجنسية/DTNN\n"
     ]
    }
   ],
   "source": [
    "tagger = STag.StanfordPOSTagger('arabic.tagger', 'stanford-postagger-full-2018-10-16/stanford-postagger.jar')\n",
    "for tag in tagger.tag(text3):\n",
    "    print(tag[1])\n"
   ]
  },
  {
   "cell_type": "code",
   "execution_count": 116,
   "metadata": {},
   "outputs": [
    {
     "name": "stdout",
     "output_type": "stream",
     "text": [
      "(ROOT\n",
      "  (S\n",
      "    (VP\n",
      "      (NN محضر)\n",
      "      (NP (NN تحقيق))\n",
      "      (PP (IN ب) (NP (DTNN الشكوى) (DTJJ المقدمة)))\n",
      "      (NP\n",
      "        (NN بنك)\n",
      "        (NP\n",
      "          (NP (DTNN الشرق))\n",
      "          (NP (NN ضد) (NP (NNP جوزف) (NNP عبدو) (NNP سعد)))))\n",
      "      (PP\n",
      "        (IN ب)\n",
      "        (NP (NP (NN جرم) (NP (NN شك))) (NP (NN دون) (NP (NN رصيد))))))\n",
      "    (PUNC .)))\n",
      "(ROOT\n",
      "  (S\n",
      "    (NP (NN حول) (NP (NN ادعاء) (NP (NNP طوني))))\n",
      "    (VP\n",
      "      (VBP يارد)\n",
      "      (NP (NN ضد) (NP (NN مجهول)))\n",
      "      (PP\n",
      "        (IN ب)\n",
      "        (NP (NN جرم) (NP (NN سرقة) (NP (NN محفظة) (NP (PRP$ ه)))))))))\n",
      "(ROOT\n",
      "  (S\n",
      "    (NP\n",
      "      (NP (NN محضر))\n",
      "      (NP\n",
      "        (NP (NN تحقيق) (JJ فوري))\n",
      "        (PP\n",
      "          (IN ب)\n",
      "          (NP (NN توقيف) (NP (DTNN اللبناني) (NP (NNP فارس)))))))\n",
      "    (VP\n",
      "      (VBD ورد)\n",
      "      (NP (PRP ه))\n",
      "      (PP\n",
      "        (IN ب)\n",
      "        (NP\n",
      "          (NN جرم)\n",
      "          (NP\n",
      "            (NN تعاطي)\n",
      "            (NP (NN مادة) (NP (NN حشيشة) (NP (DTNN الكيف))))))))\n",
      "    (PUNC .)))\n",
      "(ROOT\n",
      "  (UCP\n",
      "    (NP\n",
      "      (NN محضر)\n",
      "      (S\n",
      "        (VP\n",
      "          (VBG تحقيق)\n",
      "          (PP\n",
      "            (IN ب)\n",
      "            (S\n",
      "              (VP\n",
      "                (VBG ادعاء)\n",
      "                (NP (NNP حسام) (NNP حسين) (NNP قبيسي))\n",
      "                (NP\n",
      "                  (NP\n",
      "                    (NP (NN ضد) (NP (DTNN المدعى)))\n",
      "                    (PP (IN على) (NP (PRP هما))))\n",
      "                  (NP (NNP كريم) (NNP زهير) (DTNNP الذهبي)))))))))\n",
      "    (CC و)\n",
      "    (FRAG\n",
      "      (NP (NP (DTNN المدعى)) (PP (IN على) (NP (PRP ه))))\n",
      "      (NP (NP (NNP محمد) (NNP عبد) (DTNNP الغني)) (NP (NNP علوان)))\n",
      "      (PP\n",
      "        (IN ب)\n",
      "        (NP (NN جرم) (NP (NP (NN شك)) (NP (NN دون) (NP (NN رصيد)))))))))\n",
      "(ROOT\n",
      "  (FRAG\n",
      "    (NP\n",
      "      (NN محضر)\n",
      "      (S\n",
      "        (VP\n",
      "          (VBG تحقيق)\n",
      "          (PP\n",
      "            (IN ب)\n",
      "            (NP\n",
      "              (NN ادعاء)\n",
      "              (NP\n",
      "                (NP (NN اصحاب) (NP (DTNN الاقسام) (DTJJ المختلفة)))\n",
      "                (PP\n",
      "                  (IN في)\n",
      "                  (NP\n",
      "                    (NP (DTNN العقار))\n",
      "                    (NP\n",
      "                      (NP (NN رقم) (NP (CD 1972)))\n",
      "                      (NP\n",
      "                        (NP\n",
      "                          (NP (NN منطقة) (NP (DTNNP المصيطبة)))\n",
      "                          (ADJP (DTJJ العقارية)))\n",
      "                        (NP\n",
      "                          (NN ضد)\n",
      "                          (NP (NN اصحاب) (NP (DTNN العقار)))))\n",
      "                      (ADVP (CD 1971))))))))\n",
      "          (NP\n",
      "            (NP (NN منطقة) (NP (DTNNP المصيطبة)))\n",
      "            (ADJP (DTJJ العقارية))))))\n",
      "    (NP (NN حول) (NP (NN اقفال) (NP (NN طريق) (JJ خاص))))))\n",
      "(ROOT\n",
      "  (NP\n",
      "    (NP (NN محضر))\n",
      "    (PP\n",
      "      (IN ب)\n",
      "      (NP\n",
      "        (NP (NN توقيف) (NP (NNP علي) (NNP اسماعيل) (NNP عواضة)))\n",
      "        (PP\n",
      "          (IN ب)\n",
      "          (NP (NN جرم) (NP (NN حيازة) (NP (NN مواد) (JJ مخدرة)))))))\n",
      "    (PUNC .)))\n",
      "(ROOT\n",
      "  (NP\n",
      "    (NP (NN محضر) (NN تحقيق))\n",
      "    (PP\n",
      "      (IN ب)\n",
      "      (NP\n",
      "        (NP\n",
      "          (NP (NN ادعاء) (NP (DTNN المدعو) (NNP خضر) (DTNNP الخضر)))\n",
      "          (ADJP (JJ سوري) (NP (DTNN الجنسية))))\n",
      "        (NP\n",
      "          (NN ضد)\n",
      "          (NP\n",
      "            (NP (NNP صبري) (NNP محمد))\n",
      "            (ADJP\n",
      "              (JJ سوري)\n",
      "              (NP (DTNN الجنسية))\n",
      "              (PP\n",
      "                (IN ب)\n",
      "                (NP (NN جرم) (NP (DTNN الضرب) (CC و) (DTNN الايذاء)))))))))))\n",
      "(ROOT\n",
      "  (FRAG\n",
      "    (NP\n",
      "      (NP (NN محضر))\n",
      "      (NP\n",
      "        (NP (NN تحقيق))\n",
      "        (PP (IN ب) (NP (NN ادعاء) (NP (NNP فواز))))))\n",
      "    (NP (NNP محمد) (NNP ابو) (NNP عمر))\n",
      "    (PUNC /)\n",
      "    (NP (JJ لبناني))\n",
      "    (NP\n",
      "      (NN ضد)\n",
      "      (NP\n",
      "        (NP (NNS مجهولين))\n",
      "        (PP\n",
      "          (IN ب)\n",
      "          (NP\n",
      "            (NN جرم)\n",
      "            (NP\n",
      "              (NP (NN سرقة))\n",
      "              (PP\n",
      "                (IN ب)\n",
      "                (NP (NN واسطة) (NP (DTNN الكسر) (CC و) (DTNN الخلع)))))))))\n",
      "    (PUNC .)))\n",
      "(ROOT\n",
      "  (NP\n",
      "    (NP (NN محضر))\n",
      "    (NP\n",
      "      (NN سرقة)\n",
      "      (NP\n",
      "        (NP (NN دراجة) (JJ نارية))\n",
      "        (PP\n",
      "          (IN ب)\n",
      "          (NP\n",
      "            (NN اسم)\n",
      "            (NP\n",
      "              (NP (DTNN المدعو) (NNP عيسى) (NNP عقلة) (DTNNP المحمد))\n",
      "              (ADJP (JJ سوري) (NP (DTNN الجنسية))))))))))\n"
     ]
    }
   ],
   "source": [
    "parser = SParse.StanfordParser(model_path='edu/stanford/nlp/models/lexparser/arabicFactored.ser.gz')\n",
    "sentences = parser.raw_parse_sents(text3)\n",
    "for line in sentences:\n",
    "\tfor sentence in line:\n",
    "\t\tprint(sentence)\n",
    "sentence.draw()"
   ]
  },
  {
   "cell_type": "code",
   "execution_count": 55,
   "metadata": {},
   "outputs": [
    {
     "name": "stdout",
     "output_type": "stream",
     "text": [
      "[polyglot_data] Downloading package embeddings2.ar to\n",
      "[polyglot_data]     C:\\Users\\Maya\\AppData\\Roaming\\polyglot_data...\n"
     ]
    },
    {
     "data": {
      "text/plain": [
       "True"
      ]
     },
     "execution_count": 55,
     "metadata": {},
     "output_type": "execute_result"
    }
   ],
   "source": [
    "from polyglot.downloader import downloader\n",
    "downloader.download(\"embeddings2.ar\")"
   ]
  },
  {
   "cell_type": "code",
   "execution_count": 57,
   "metadata": {},
   "outputs": [
    {
     "name": "stdout",
     "output_type": "stream",
     "text": [
      "[polyglot_data] Downloading package ner2.ar to\n",
      "[polyglot_data]     C:\\Users\\Maya\\AppData\\Roaming\\polyglot_data...\n"
     ]
    },
    {
     "data": {
      "text/plain": [
       "True"
      ]
     },
     "execution_count": 57,
     "metadata": {},
     "output_type": "execute_result"
    }
   ],
   "source": [
    "downloader.download(\"ner2.ar\")"
   ]
  },
  {
   "cell_type": "code",
   "execution_count": 132,
   "metadata": {},
   "outputs": [
    {
     "name": "stdout",
     "output_type": "stream",
     "text": [
      "محضر تحقيق ب الشكوى المقدمة بنك الشرق ضد جوزف عبدو سعد ب جرم شك دون رصيد . \n",
      "\n",
      "I-ORG ['بنك', 'الشرق']\n",
      "I-PER ['جوزف', 'عبدو']\n",
      "| حول ادعاء طوني يارد ضد مجهول ب جرم سرقة محفظة ه | محضر تحقيق فوري ب توقيف اللبناني فارس ورد ه ب جرم تعاطي مادة حشيشة الكيف . \n",
      "\n",
      "I-PER ['طوني', 'يارد']\n",
      "I-ORG ['توقيف']\n",
      "I-PER ['توقيف', 'اللبناني', 'فارس']\n",
      "| محضر تحقيق ب ادعاء حسام حسين قبيسي ضد المدعى على هما كريم زهير الذهبي و المدعى على ه محمد عبد الغني علوان ب جرم شك دون رصيد | محضر تحقيق ب ادعاء اصحاب الاقسام المختلفة في العقار رقم 1972 منطقة المصيطبة العقارية ضد اصحاب العقار 1971 منطقة المصيطبة العقارية حول اقفال طريق خاص | محضر ب توقيف علي اسماعيل عواضة ب جرم حيازة مواد مخدرة . \n",
      "\n",
      "I-PER ['حسام', 'حسين', 'قبيسي']\n",
      "I-PER ['كريم', 'زهير', 'الذهبي']\n",
      "I-PER ['المدعى']\n",
      "I-PER ['عبد', 'الغني', 'علوان']\n",
      "I-LOC ['المصيطبة']\n",
      "I-LOC ['المصيطبة']\n",
      "I-PER ['اسماعيل']\n",
      "| محضر تحقيق ب ادعاء المدعو خضر الخضر سوري الجنسية ضد صبري محمد سوري الجنسية ب جرم الضرب و الايذاء | محضر تحقيق ب ادعاء فواز محمد ابو عمر / لبناني ضد مجهولين ب جرم سرقة ب واسطة الكسر و الخلع . \n",
      "\n",
      "I-PER ['خضر', 'الخضر']\n",
      "I-LOC ['خضر', 'الخضر', 'سوري']\n",
      "I-PER ['صبري', 'محمد']\n",
      "I-LOC ['صبري', 'محمد', 'سوري']\n",
      "I-PER ['فواز']\n",
      "I-LOC ['لبناني']\n",
      "| محضر سرقة دراجة نارية ب اسم المدعو عيسى عقلة المحمد سوري الجنسية \n",
      "\n",
      "I-PER ['عيسى', 'عقلة', 'المحمد']\n",
      "I-LOC ['عيسى', 'عقلة', 'المحمد', 'سوري']\n",
      "4\n"
     ]
    }
   ],
   "source": [
    "from polyglot.text import Text\n",
    "text2 = Text(text)\n",
    "for sent in text2.sentences:\n",
    "    print(sent, \"\\n\")\n",
    "    for entity in sent.entities:\n",
    "        print(entity.tag, entity)\n",
    "#x=entity\n",
    "#print(len(x))\n",
    "#for i in range(len(x))\n",
    "#if x[i]=='I-PER' and tag[i-1]=='NN'\n",
    "   # return x[i]\n",
    "    "
   ]
  },
  {
   "cell_type": "markdown",
   "metadata": {},
   "source": [
    "with open('ar_london.txt', encoding='utf-8') as f:\n",
    "    london = f.read()\n",
    "print(london[:100])\n"
   ]
  },
  {
   "cell_type": "code",
   "execution_count": null,
   "metadata": {},
   "outputs": [],
   "source": []
  },
  {
   "cell_type": "code",
   "execution_count": 20,
   "metadata": {},
   "outputs": [
    {
     "name": "stdout",
     "output_type": "stream",
     "text": [
      "محضر تحقيق بالشكوى المقدمة من المدعوة رانيا المصري صاحبة مؤسسة  S & J بوكالة المحامية نسرين حرب ضد المدعوة هدى فرحات بجرم قدح وذم ومخالفة قرار إداري \n",
      "محضر تحقيق بالشكوى المقدمة\n"
     ]
    }
   ],
   "source": [
    "print(data['text2'][11])\n",
    "rake = Rake(stopwords=stopwords.words('arabic'), punctuations=',./:،؛\":.,’\\''.split(), language='arabic', max_length=15)\n",
    "rake.extract_keywords_from_text(data['text2'][11])\n",
    "for phrase in rake.get_ranked_phrases()[:5]:\n",
    "    print(phrase)"
   ]
  },
  {
   "cell_type": "code",
   "execution_count": null,
   "metadata": {},
   "outputs": [],
   "source": []
  }
 ],
 "metadata": {
  "kernelspec": {
   "display_name": "Python 3",
   "language": "python",
   "name": "python3"
  },
  "language_info": {
   "codemirror_mode": {
    "name": "ipython",
    "version": 3
   },
   "file_extension": ".py",
   "mimetype": "text/x-python",
   "name": "python",
   "nbconvert_exporter": "python",
   "pygments_lexer": "ipython3",
   "version": "3.7.1"
  }
 },
 "nbformat": 4,
 "nbformat_minor": 2
}
