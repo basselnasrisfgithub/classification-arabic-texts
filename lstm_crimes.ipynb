{
 "cells": [
  {
   "cell_type": "code",
   "execution_count": 10,
   "metadata": {},
   "outputs": [],
   "source": [
    "\n",
    "import numpy as np \n",
    "import pandas as pd\n",
    "import matplotlib.pyplot as plt\n",
    "import seaborn as sns\n",
    "from keras.preprocessing.text import Tokenizer\n",
    "from keras.preprocessing.sequence import pad_sequences\n",
    "from keras.models import Sequential\n",
    "from keras.layers import Dense, Embedding, LSTM, SpatialDropout1D\n",
    "from sklearn.model_selection import train_test_split\n",
    "from keras.utils.np_utils import to_categorical\n",
    "from keras.callbacks import EarlyStopping\n",
    "from keras.layers import Dropout\n",
    "import re\n",
    "from nltk.corpus import stopwords\n",
    "from nltk import word_tokenize\n",
    "STOPWORDS = set(stopwords.words('arabic'))\n",
    "from bs4 import BeautifulSoup\n",
    "#import plotly.graph_objs as go\n",
    "#import plotly.plotly as py\n",
    "#import cufflinks\n",
    "#from IPython.core.interactiveshell import InteractiveShell\n",
    "#import plotly.figure_factory as ff\n",
    "#InteractiveShell.ast_node_interactivity = 'all'\n",
    "#from plotly.offline import iplot\n",
    "#cufflinks.go_offline()\n",
    "#cufflinks.set_config_file(world_readable=True, theme='pearl')"
   ]
  },
  {
   "cell_type": "code",
   "execution_count": 11,
   "metadata": {},
   "outputs": [
    {
     "name": "stdout",
     "output_type": "stream",
     "text": [
      "   tags                                               post\n",
      "1    12  محضر تحقيق بالشكوى المقدمة بنك الشرق ضد جوزف ع...\n",
      "2    13      حول ادعاء طوني يارد ضد مجهول بجرم سرقة محفظته\n",
      "3    11  محضر تحقيق فوري بتوقيف اللبناني فارس ورده بجرم...\n",
      "4    12  محضر تحقيق بإدعاء حسام حسين قبيسي ضد المدعى عل...\n"
     ]
    }
   ],
   "source": [
    "#readind and preparing data ( text , label )\n",
    "import os, sys\n",
    "import pandas as pd\n",
    "import numpy as np\n",
    "df=pd.read_excel('ml2.xlsx', header=None) ## read le file\n",
    "df.columns=['tags','post']\n",
    "print(df[1:5])"
   ]
  },
  {
   "cell_type": "code",
   "execution_count": 12,
   "metadata": {},
   "outputs": [],
   "source": [
    "df = df.reset_index(drop=True)\n",
    "REPLACE_BY_SPACE_RE = re.compile('[/(){}\\[\\]\\|@,;]')\n",
    "BAD_SYMBOLS_RE = re.compile('[^0-9ا-ي #+_]')\n",
    "STOPWORDS = set(stopwords.words('arabic'))\n",
    "\n",
    "def clean_text(text):\n",
    "    \"\"\"\n",
    "        text: a string\n",
    "        \n",
    "        return: modified initial string\n",
    "    \"\"\"\n",
    "    text = text.lower() # lowercase text\n",
    "    text = REPLACE_BY_SPACE_RE.sub(' ', text) # replace REPLACE_BY_SPACE_RE symbols by space in text. substitute the matched string in REPLACE_BY_SPACE_RE with space.\n",
    "    text = BAD_SYMBOLS_RE.sub('', text) # remove symbols which are in BAD_SYMBOLS_RE from text. substitute the matched string in BAD_SYMBOLS_RE with nothing. \n",
    "    text = text.replace('x', '')\n",
    "#    text = re.sub(r'\\W+', '', text)\n",
    "    text = ' '.join(word for word in text.split() if word not in STOPWORDS) # remove stopwors from text\n",
    "    return text\n",
    "df['post'] = df['post'].apply(clean_text)"
   ]
  },
  {
   "cell_type": "code",
   "execution_count": 13,
   "metadata": {},
   "outputs": [
    {
     "name": "stdout",
     "output_type": "stream",
     "text": [
      "{'اللاتي', 'متى', 'أولئك', 'لو', 'يا', 'إلى', 'بكم', 'مما', 'إذ', 'هما', 'ليست', 'كلا', 'لما', 'لعل', 'لكما', 'منذ', 'ريث', 'على', 'وإن', 'ذواتا', 'كيف', 'له', 'من', 'بل', 'تلكما', 'لدى', 'ليستا', 'إذا', 'إما', 'خلا', 'لستما', 'سوى', 'كأي', 'هذين', 'هناك', 'بنا', 'سوف', 'فيها', 'هاتين', 'هذا', 'ليت', 'منه', 'عليه', 'نحو', 'لك', 'هكذا', 'لا', 'أو', 'أينما', 'ثم', 'فمن', 'ليسوا', 'فيم', 'إليكم', 'بس', 'لهما', 'كيفما', 'بهم', 'أما', 'ثمة', 'حتى', 'به', 'لسن', 'ذلكم', 'شتان', 'كأنما', 'أنت', 'بهن', 'عن', 'أف', 'حين', 'كلاهما', 'هلا', 'والذين', 'ولو', 'إليك', 'عدا', 'لكن', 'وإذ', 'مهما', 'هذان', 'تي', 'بمن', 'لكي', 'إليكما', 'هيهات', 'اللتيا', 'حاشا', 'ذات', 'كم', 'لم', 'كلتا', 'لهم', 'ماذا', 'بين', 'ذو', 'فإن', 'هاتان', 'هذي', 'بهما', 'كما', 'عل', 'في', 'فيه', 'اللتين', 'بيد', 'ذلكما', 'عند', 'لن', 'ها', 'حيثما', 'ذين', 'بكما', 'هن', 'أيها', 'ليس', 'والذي', 'ما', 'مع', 'ألا', 'إذن', 'لوما', 'إيه', 'أولاء', 'هاهنا', 'دون', 'تلك', 'كليهما', 'لكنما', 'كليكما', 'إذما', 'اللذين', 'هيا', 'ذلكن', 'اللائي', 'لئن', 'أكثر', 'كأين', 'لاسيما', 'هل', 'تين', 'اللواتي', 'بلى', 'بما', 'قد', 'عما', 'لكيلا', 'هو', 'أنى', 'ته', 'كأن', 'إلا', 'لستم', 'أين', 'فلا', 'أي', 'وهو', 'نعم', 'ذواتي', 'ولا', 'حيث', 'لهن', 'ذه', 'مه', 'فإذا', 'ذا', 'عليك', 'ومن', 'بكن', 'إي', 'وما', 'بك', 'وإذا', 'اللتان', 'أن', 'حبذا', 'آها', 'ذلك', 'كذا', 'هي', 'تلكم', 'آي', 'كي', 'لها', 'هيت', 'عسى', 'تينك', 'لكم', 'أوه', 'لست', 'هاته', 'كل', 'نحن', 'كذلك', 'آه', 'بها', 'أنا', 'بخ', 'كيت', 'الذين', 'التي', 'لولا', 'بعد', 'إنا', 'ذان', 'أنتم', 'أنتما', 'هنالك', 'إنه', 'الذي', 'إنما', 'اللذان', 'لنا', 'إن', 'بعض', 'بماذا', 'هاك', 'أم', 'غير', 'لستن', 'فيما', 'ليسا', 'بي', 'هاتي', 'هؤلاء', 'ذاك', 'ولكن', 'منها', 'ذانك', 'لي', 'أقل', 'هذه', 'ذوا', 'إليكن', 'هنا', 'ذينك', 'ممن', 'أنتن', 'لسنا', 'كلما', 'ذي', 'هم', 'مذ'}\n"
     ]
    }
   ],
   "source": [
    "print(STOPWORDS)"
   ]
  },
  {
   "cell_type": "code",
   "execution_count": 14,
   "metadata": {},
   "outputs": [
    {
     "name": "stdout",
     "output_type": "stream",
     "text": [
      "Found 15540 unique tokens.\n"
     ]
    }
   ],
   "source": [
    "# The maximum number of words to be used. (most frequent)\n",
    "MAX_NB_WORDS = 50000\n",
    "# Max number of words in each complaint.\n",
    "MAX_SEQUENCE_LENGTH = 250\n",
    "# This is fixed.\n",
    "EMBEDDING_DIM = 100\n",
    "\n",
    "tokenizer = Tokenizer(num_words=MAX_NB_WORDS, filters='!\"#$%&()*+,-./:;<=>?@[\\]^_`{|}~', lower=True)\n",
    "tokenizer.fit_on_texts(df['post'].values)\n",
    "word_index = tokenizer.word_index\n",
    "print('Found %s unique tokens.' % len(word_index))"
   ]
  },
  {
   "cell_type": "code",
   "execution_count": 15,
   "metadata": {},
   "outputs": [
    {
     "name": "stdout",
     "output_type": "stream",
     "text": [
      "Shape of data tensor: (7242, 250)\n"
     ]
    }
   ],
   "source": [
    "X = tokenizer.texts_to_sequences(df['post'].values)\n",
    "X = pad_sequences(X, maxlen=MAX_SEQUENCE_LENGTH)\n",
    "print('Shape of data tensor:', X.shape)"
   ]
  },
  {
   "cell_type": "code",
   "execution_count": 16,
   "metadata": {},
   "outputs": [
    {
     "name": "stdout",
     "output_type": "stream",
     "text": [
      "Shape of label tensor: (7242, 13)\n"
     ]
    }
   ],
   "source": [
    "Y = pd.get_dummies(df['tags']).values\n",
    "print('Shape of label tensor:', Y.shape)"
   ]
  },
  {
   "cell_type": "code",
   "execution_count": 17,
   "metadata": {},
   "outputs": [
    {
     "name": "stdout",
     "output_type": "stream",
     "text": [
      "(6517, 250) (6517, 13)\n",
      "(725, 250) (725, 13)\n"
     ]
    }
   ],
   "source": [
    "X_train, X_test, Y_train, Y_test = train_test_split(X,Y, test_size = 0.10, random_state = 42)\n",
    "print(X_train.shape,Y_train.shape)\n",
    "print(X_test.shape,Y_test.shape)"
   ]
  },
  {
   "cell_type": "code",
   "execution_count": 18,
   "metadata": {},
   "outputs": [
    {
     "name": "stdout",
     "output_type": "stream",
     "text": [
      "WARNING:tensorflow:From C:\\Users\\Maya\\Anaconda3\\lib\\site-packages\\tensorflow\\python\\framework\\op_def_library.py:263: colocate_with (from tensorflow.python.framework.ops) is deprecated and will be removed in a future version.\n",
      "Instructions for updating:\n",
      "Colocations handled automatically by placer.\n",
      "WARNING:tensorflow:From C:\\Users\\Maya\\Anaconda3\\lib\\site-packages\\keras\\backend\\tensorflow_backend.py:3445: calling dropout (from tensorflow.python.ops.nn_ops) with keep_prob is deprecated and will be removed in a future version.\n",
      "Instructions for updating:\n",
      "Please use `rate` instead of `keep_prob`. Rate should be set to `rate = 1 - keep_prob`.\n",
      "_________________________________________________________________\n",
      "Layer (type)                 Output Shape              Param #   \n",
      "=================================================================\n",
      "embedding_1 (Embedding)      (None, 250, 100)          5000000   \n",
      "_________________________________________________________________\n",
      "spatial_dropout1d_1 (Spatial (None, 250, 100)          0         \n",
      "_________________________________________________________________\n",
      "lstm_1 (LSTM)                (None, 100)               80400     \n",
      "_________________________________________________________________\n",
      "dense_1 (Dense)              (None, 13)                1313      \n",
      "=================================================================\n",
      "Total params: 5,081,713\n",
      "Trainable params: 5,081,713\n",
      "Non-trainable params: 0\n",
      "_________________________________________________________________\n",
      "None\n"
     ]
    }
   ],
   "source": [
    "model = Sequential()\n",
    "model.add(Embedding(MAX_NB_WORDS, EMBEDDING_DIM, input_length=X.shape[1]))\n",
    "model.add(SpatialDropout1D(0.2))\n",
    "model.add(LSTM(100, dropout=0.2, recurrent_dropout=0.2))\n",
    "model.add(Dense(13, activation='softmax'))\n",
    "model.compile(loss='categorical_crossentropy', optimizer='adam', metrics=['accuracy'])\n",
    "print(model.summary())\n"
   ]
  },
  {
   "cell_type": "code",
   "execution_count": 19,
   "metadata": {},
   "outputs": [
    {
     "name": "stdout",
     "output_type": "stream",
     "text": [
      "WARNING:tensorflow:From C:\\Users\\Maya\\Anaconda3\\lib\\site-packages\\tensorflow\\python\\ops\\math_ops.py:3066: to_int32 (from tensorflow.python.ops.math_ops) is deprecated and will be removed in a future version.\n",
      "Instructions for updating:\n",
      "Use tf.cast instead.\n",
      "Train on 5865 samples, validate on 652 samples\n",
      "Epoch 1/10\n",
      "5865/5865 [==============================] - 35s 6ms/step - loss: 2.0626 - acc: 0.3560 - val_loss: 1.1607 - val_acc: 0.6718\n",
      "Epoch 2/10\n",
      "5865/5865 [==============================] - 33s 6ms/step - loss: 0.8992 - acc: 0.7137 - val_loss: 0.6225 - val_acc: 0.8021\n",
      "Epoch 3/10\n",
      "5865/5865 [==============================] - 34s 6ms/step - loss: 0.5192 - acc: 0.8459 - val_loss: 0.4826 - val_acc: 0.8558\n",
      "Epoch 4/10\n",
      "5865/5865 [==============================] - 35s 6ms/step - loss: 0.3249 - acc: 0.9096 - val_loss: 0.4336 - val_acc: 0.8696\n",
      "Epoch 5/10\n",
      "5865/5865 [==============================] - 35s 6ms/step - loss: 0.2205 - acc: 0.9468 - val_loss: 0.4860 - val_acc: 0.8635\n",
      "Epoch 6/10\n",
      "5865/5865 [==============================] - 35s 6ms/step - loss: 0.1633 - acc: 0.9581 - val_loss: 0.4455 - val_acc: 0.8696\n",
      "Epoch 7/10\n",
      "5865/5865 [==============================] - 35s 6ms/step - loss: 0.1163 - acc: 0.9710 - val_loss: 0.4843 - val_acc: 0.8742\n"
     ]
    }
   ],
   "source": [
    "epochs = 10\n",
    "batch_size = 64\n",
    "\n",
    "history = model.fit(X_train, Y_train, epochs=epochs, batch_size=batch_size,validation_split=0.1,callbacks=[EarlyStopping(monitor='val_loss', patience=3, min_delta=0.0001)])"
   ]
  },
  {
   "cell_type": "code",
   "execution_count": 20,
   "metadata": {},
   "outputs": [
    {
     "name": "stdout",
     "output_type": "stream",
     "text": [
      "725/725 [==============================] - 1s 2ms/step\n",
      "Test set\n",
      "  Loss: 0.479\n",
      "  Accuracy: 0.883\n"
     ]
    }
   ],
   "source": [
    "accr = model.evaluate(X_test,Y_test)\n",
    "print('Test set\\n  Loss: {:0.3f}\\n  Accuracy: {:0.3f}'.format(accr[0],accr[1]))"
   ]
  },
  {
   "cell_type": "code",
   "execution_count": 21,
   "metadata": {},
   "outputs": [
    {
     "data": {
      "image/png": "[encoded data removed]",
      "text/plain": [
       "<Figure size 432x288 with 1 Axes>"
      ]
     },
     "metadata": {
      "needs_background": "light"
     },
     "output_type": "display_data"
    }
   ],
   "source": [
    "plt.title('Loss')\n",
    "plt.plot(history.history['loss'], label='train')\n",
    "plt.plot(history.history['val_loss'], label='test')\n",
    "plt.legend()\n",
    "plt.show();"
   ]
  },
  {
   "cell_type": "code",
   "execution_count": 22,
   "metadata": {},
   "outputs": [
    {
     "data": {
      "image/png": "[encoded data removed]",
      "text/plain": [
       "<Figure size 432x288 with 1 Axes>"
      ]
     },
     "metadata": {
      "needs_background": "light"
     },
     "output_type": "display_data"
    }
   ],
   "source": [
    "plt.title('Accuracy')\n",
    "plt.plot(history.history['acc'], label='train')\n",
    "plt.plot(history.history['val_acc'], label='test')\n",
    "plt.legend()\n",
    "plt.show();"
   ]
  }
 ],
 "metadata": {
  "kernelspec": {
   "display_name": "Python 3",
   "language": "python",
   "name": "python3"
  },
  "language_info": {
   "codemirror_mode": {
    "name": "ipython",
    "version": 3
   },
   "file_extension": ".py",
   "mimetype": "text/x-python",
   "name": "python",
   "nbconvert_exporter": "python",
   "pygments_lexer": "ipython3",
   "version": "3.7.1"
  }
 },
 "nbformat": 4,
 "nbformat_minor": 2
}
