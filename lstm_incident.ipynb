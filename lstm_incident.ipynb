{
 "cells": [
  {
   "cell_type": "code",
   "execution_count": 1,
   "metadata": {},
   "outputs": [
    {
     "name": "stderr",
     "output_type": "stream",
     "text": [
      "Using TensorFlow backend.\n"
     ]
    }
   ],
   "source": [
    "\n",
    "import numpy as np \n",
    "import pandas as pd\n",
    "import matplotlib.pyplot as plt\n",
    "import seaborn as sns\n",
    "from keras.preprocessing.text import Tokenizer\n",
    "from keras.preprocessing.sequence import pad_sequences\n",
    "from keras.models import Sequential\n",
    "from keras.layers import Dense, Embedding, LSTM, SpatialDropout1D\n",
    "from sklearn.model_selection import train_test_split\n",
    "from keras.utils.np_utils import to_categorical\n",
    "from keras.callbacks import EarlyStopping\n",
    "from keras.layers import Dropout\n",
    "import re\n",
    "from nltk.corpus import stopwords\n",
    "from nltk import word_tokenize\n",
    "STOPWORDS = set(stopwords.words('arabic'))\n",
    "from bs4 import BeautifulSoup\n",
    "#import plotly.graph_objs as go\n",
    "#import plotly.plotly as py\n",
    "#import cufflinks\n",
    "#from IPython.core.interactiveshell import InteractiveShell\n",
    "#import plotly.figure_factory as ff\n",
    "#InteractiveShell.ast_node_interactivity = 'all'\n",
    "#from plotly.offline import iplot\n",
    "#cufflinks.go_offline()\n",
    "#cufflinks.set_config_file(world_readable=True, theme='pearl')"
   ]
  },
  {
   "cell_type": "code",
   "execution_count": 2,
   "metadata": {},
   "outputs": [
    {
     "name": "stdout",
     "output_type": "stream",
     "text": [
      "   tags                                               post\n",
      "1    11  عند التاسعة من مساء يوم 29/9/2018 وفي محلة الط...\n",
      "2     4  اقدم المدعو وليد عدنان مرعي على شتم و اهانة ال...\n",
      "3    12  أقدم المدعو ناصر رضا على اصدار شك لصالح حسن اح...\n",
      "4     1  الساعة 7.30 من تاريخه وفي محلة فردان شارع كرام...\n"
     ]
    }
   ],
   "source": [
    "#readind and preparing data ( text , label )\n",
    "import os, sys\n",
    "import pandas as pd\n",
    "import numpy as np\n",
    "df=pd.read_excel('incident13type.xlsx', header=None) ## read le file\n",
    "df.columns=['tags','post']\n",
    "print(df[1:5])"
   ]
  },
  {
   "cell_type": "code",
   "execution_count": 3,
   "metadata": {},
   "outputs": [],
   "source": [
    "df = df.reset_index(drop=True)\n",
    "REPLACE_BY_SPACE_RE = re.compile('[/(){}\\[\\]\\|@,;]')\n",
    "BAD_SYMBOLS_RE = re.compile('[^0-9ا-ي #+_]')\n",
    "STOPWORDS = set(stopwords.words('arabic'))\n",
    "\n",
    "def clean_text(text):\n",
    "    \"\"\"\n",
    "        text: a string\n",
    "        \n",
    "        return: modified initial string\n",
    "    \"\"\"\n",
    "    #text = text.lower() # lowercase text\n",
    "    text = REPLACE_BY_SPACE_RE.sub(' ', text) # replace REPLACE_BY_SPACE_RE symbols by space in text. substitute the matched string in REPLACE_BY_SPACE_RE with space.\n",
    "    text = BAD_SYMBOLS_RE.sub('', text) # remove symbols which are in BAD_SYMBOLS_RE from text. substitute the matched string in BAD_SYMBOLS_RE with nothing. \n",
    "    text = text.replace('x', '')\n",
    "#    text = re.sub(r'\\W+', '', text)\n",
    "    text = ' '.join(word for word in text.split() if word not in STOPWORDS) # remove stopwors from text\n",
    "    return text\n",
    "df['post'] = df['post'].apply(clean_text)"
   ]
  },
  {
   "cell_type": "code",
   "execution_count": 4,
   "metadata": {},
   "outputs": [
    {
     "name": "stdout",
     "output_type": "stream",
     "text": [
      "{'الذين', 'ذات', 'كذا', 'اللواتي', 'كما', 'منذ', 'على', 'كم', 'هما', 'اللائي', 'متى', 'ذو', 'هذا', 'إلا', 'ذينك', 'حين', 'فمن', 'لكن', 'ماذا', 'إذا', 'حيثما', 'لست', 'لكنما', 'أو', 'كيفما', 'لاسيما', 'لها', 'هاهنا', 'لنا', 'دون', 'ذواتي', 'أولئك', 'لسن', 'مع', 'بها', 'كأنما', 'هنا', 'بمن', 'اللذين', 'بما', 'لدى', 'لم', 'بلى', 'تين', 'هم', 'عدا', 'كلتا', 'أين', 'كلاهما', 'ذه', 'آه', 'والذي', 'ليست', 'ذلك', 'أن', 'لهما', 'أنا', 'بنا', 'لما', 'ليسا', 'هاتين', 'والذين', 'كل', 'حتى', 'وإذا', 'هي', 'هيا', 'هذي', 'لستن', 'الذي', 'ريث', 'لا', 'لستم', 'هل', 'ذان', 'بين', 'تلكما', 'هذين', 'هاته', 'أقل', 'ذلكن', 'كيت', 'بهن', 'بماذا', 'إن', 'بكن', 'ذوا', 'كلما', 'إذن', 'اللتين', 'أوه', 'إنا', 'أيها', 'لهن', 'إذما', 'لكما', 'كليكما', 'حاشا', 'فإن', 'منها', 'وإذ', 'عليه', 'كليهما', 'عما', 'بكم', 'أف', 'ممن', 'منه', 'هاك', 'وإن', 'بك', 'لكم', 'أولاء', 'نحو', 'خلا', 'شتان', 'فيما', 'بس', 'إلى', 'مذ', 'مما', 'لسنا', 'ذاك', 'ذين', 'هن', 'ها', 'من', 'مهما', 'فإذا', 'عل', 'له', 'لئن', 'آها', 'بعد', 'لستما', 'ألا', 'كأين', 'لن', 'التي', 'ذي', 'بي', 'أنتما', 'بهما', 'إيه', 'هلا', 'غير', 'إليكم', 'يا', 'كي', 'كذلك', 'هؤلاء', 'اللذان', 'أما', 'ذانك', 'ليس', 'هيت', 'لو', 'ولا', 'بيد', 'لك', 'أنت', 'إليكن', 'لكيلا', 'حيث', 'هو', 'ذلكم', 'كأن', 'ومن', 'عن', 'ذا', 'ثمة', 'إنما', 'هكذا', 'كلا', 'هنالك', 'اللتان', 'لولا', 'هاتان', 'عسى', 'عند', 'نعم', 'هاتي', 'إما', 'لكي', 'هيهات', 'ولو', 'وهو', 'نحن', 'ليسوا', 'ما', 'إي', 'تينك', 'إذ', 'ليت', 'هناك', 'ذلكما', 'فيه', 'لعل', 'لي', 'مه', 'أم', 'في', 'بخ', 'هذه', 'ولكن', 'أي', 'إليك', 'إليكما', 'عليك', 'وما', 'تلك', 'ته', 'اللاتي', 'تي', 'إنه', 'بعض', 'فلا', 'قد', 'ليستا', 'اللتيا', 'سوف', 'فيم', 'فيها', 'آي', 'أنتم', 'لوما', 'أنى', 'حبذا', 'ذواتا', 'كأي', 'هذان', 'بهم', 'به', 'أكثر', 'تلكم', 'سوى', 'لهم', 'كيف', 'بكما', 'أنتن', 'أينما', 'بل', 'ثم'}\n"
     ]
    }
   ],
   "source": [
    "print(STOPWORDS)"
   ]
  },
  {
   "cell_type": "code",
   "execution_count": 5,
   "metadata": {},
   "outputs": [
    {
     "name": "stdout",
     "output_type": "stream",
     "text": [
      "Found 14117 unique tokens.\n"
     ]
    }
   ],
   "source": [
    "# The maximum number of words to be used. (most frequent)\n",
    "MAX_NB_WORDS = 50000\n",
    "# Max number of words in each complaint.\n",
    "MAX_SEQUENCE_LENGTH = 250\n",
    "# This is fixed.\n",
    "EMBEDDING_DIM = 100\n",
    "\n",
    "tokenizer = Tokenizer(num_words=MAX_NB_WORDS, filters='!\"#$%&()*+,-./:;<=>?@[\\]^_`{|}~', lower=True)\n",
    "tokenizer.fit_on_texts(df['post'].values)\n",
    "word_index = tokenizer.word_index\n",
    "print('Found %s unique tokens.' % len(word_index))"
   ]
  },
  {
   "cell_type": "code",
   "execution_count": 6,
   "metadata": {},
   "outputs": [
    {
     "name": "stdout",
     "output_type": "stream",
     "text": [
      "Shape of data tensor: (2384, 250)\n"
     ]
    }
   ],
   "source": [
    "X = tokenizer.texts_to_sequences(df['post'].values)\n",
    "X = pad_sequences(X, maxlen=MAX_SEQUENCE_LENGTH)\n",
    "print('Shape of data tensor:', X.shape)"
   ]
  },
  {
   "cell_type": "code",
   "execution_count": 7,
   "metadata": {},
   "outputs": [
    {
     "name": "stdout",
     "output_type": "stream",
     "text": [
      "Shape of label tensor: (2384, 13)\n"
     ]
    }
   ],
   "source": [
    "Y = pd.get_dummies(df['tags']).values\n",
    "print('Shape of label tensor:', Y.shape)"
   ]
  },
  {
   "cell_type": "code",
   "execution_count": 8,
   "metadata": {},
   "outputs": [
    {
     "name": "stdout",
     "output_type": "stream",
     "text": [
      "(2145, 250) (2145, 13)\n",
      "(239, 250) (239, 13)\n"
     ]
    }
   ],
   "source": [
    "X_train, X_test, Y_train, Y_test = train_test_split(X,Y, test_size = 0.10, random_state = 42)\n",
    "print(X_train.shape,Y_train.shape)\n",
    "print(X_test.shape,Y_test.shape)"
   ]
  },
  {
   "cell_type": "code",
   "execution_count": 9,
   "metadata": {},
   "outputs": [
    {
     "name": "stdout",
     "output_type": "stream",
     "text": [
      "WARNING:tensorflow:From C:\\Users\\Maya\\Anaconda3\\lib\\site-packages\\tensorflow\\python\\framework\\op_def_library.py:263: colocate_with (from tensorflow.python.framework.ops) is deprecated and will be removed in a future version.\n",
      "Instructions for updating:\n",
      "Colocations handled automatically by placer.\n",
      "WARNING:tensorflow:From C:\\Users\\Maya\\Anaconda3\\lib\\site-packages\\keras\\backend\\tensorflow_backend.py:3445: calling dropout (from tensorflow.python.ops.nn_ops) with keep_prob is deprecated and will be removed in a future version.\n",
      "Instructions for updating:\n",
      "Please use `rate` instead of `keep_prob`. Rate should be set to `rate = 1 - keep_prob`.\n",
      "_________________________________________________________________\n",
      "Layer (type)                 Output Shape              Param #   \n",
      "=================================================================\n",
      "embedding_1 (Embedding)      (None, 250, 100)          5000000   \n",
      "_________________________________________________________________\n",
      "spatial_dropout1d_1 (Spatial (None, 250, 100)          0         \n",
      "_________________________________________________________________\n",
      "lstm_1 (LSTM)                (None, 100)               80400     \n",
      "_________________________________________________________________\n",
      "dense_1 (Dense)              (None, 13)                1313      \n",
      "=================================================================\n",
      "Total params: 5,081,713\n",
      "Trainable params: 5,081,713\n",
      "Non-trainable params: 0\n",
      "_________________________________________________________________\n",
      "None\n"
     ]
    }
   ],
   "source": [
    "model = Sequential()\n",
    "model.add(Embedding(MAX_NB_WORDS, EMBEDDING_DIM, input_length=X.shape[1]))\n",
    "model.add(SpatialDropout1D(0.2))\n",
    "model.add(LSTM(100, dropout=0.2, recurrent_dropout=0.2))\n",
    "model.add(Dense(13, activation='softmax'))\n",
    "model.compile(loss='categorical_crossentropy', optimizer='adam', metrics=['accuracy'])\n",
    "print(model.summary())\n"
   ]
  },
  {
   "cell_type": "code",
   "execution_count": 10,
   "metadata": {},
   "outputs": [
    {
     "name": "stdout",
     "output_type": "stream",
     "text": [
      "WARNING:tensorflow:From C:\\Users\\Maya\\Anaconda3\\lib\\site-packages\\tensorflow\\python\\ops\\math_ops.py:3066: to_int32 (from tensorflow.python.ops.math_ops) is deprecated and will be removed in a future version.\n",
      "Instructions for updating:\n",
      "Use tf.cast instead.\n",
      "Train on 1930 samples, validate on 215 samples\n",
      "Epoch 1/15\n",
      "1930/1930 [==============================] - 13s 7ms/step - loss: 2.3337 - acc: 0.2073 - val_loss: 2.0112 - val_acc: 0.2837\n",
      "Epoch 2/15\n",
      "1930/1930 [==============================] - 11s 6ms/step - loss: 1.8599 - acc: 0.3627 - val_loss: 1.7124 - val_acc: 0.4558\n",
      "Epoch 3/15\n",
      "1930/1930 [==============================] - 11s 6ms/step - loss: 1.6534 - acc: 0.4560 - val_loss: 1.5378 - val_acc: 0.4977\n",
      "Epoch 4/15\n",
      "1930/1930 [==============================] - 11s 6ms/step - loss: 1.4533 - acc: 0.5477 - val_loss: 1.3398 - val_acc: 0.5488\n",
      "Epoch 5/15\n",
      "1930/1930 [==============================] - 11s 6ms/step - loss: 1.2287 - acc: 0.6052 - val_loss: 1.2278 - val_acc: 0.6326\n",
      "Epoch 6/15\n",
      "1930/1930 [==============================] - 11s 6ms/step - loss: 1.0980 - acc: 0.6829 - val_loss: 1.0682 - val_acc: 0.6744\n",
      "Epoch 7/15\n",
      "1930/1930 [==============================] - 11s 6ms/step - loss: 0.9326 - acc: 0.7306 - val_loss: 0.9109 - val_acc: 0.7628\n",
      "Epoch 8/15\n",
      "1930/1930 [==============================] - 11s 6ms/step - loss: 0.7379 - acc: 0.7803 - val_loss: 0.8221 - val_acc: 0.7814\n",
      "Epoch 9/15\n",
      "1930/1930 [==============================] - 12s 6ms/step - loss: 0.6102 - acc: 0.8342 - val_loss: 0.7677 - val_acc: 0.7814\n",
      "Epoch 10/15\n",
      "1930/1930 [==============================] - 12s 6ms/step - loss: 0.5079 - acc: 0.8554 - val_loss: 0.7076 - val_acc: 0.7907\n",
      "Epoch 11/15\n",
      "1930/1930 [==============================] - 11s 6ms/step - loss: 0.5107 - acc: 0.8632 - val_loss: 0.8402 - val_acc: 0.7535\n",
      "Epoch 12/15\n",
      "1930/1930 [==============================] - 12s 6ms/step - loss: 0.4532 - acc: 0.8689 - val_loss: 0.7069 - val_acc: 0.7581\n",
      "Epoch 13/15\n",
      "1930/1930 [==============================] - 12s 6ms/step - loss: 0.3378 - acc: 0.9192 - val_loss: 0.8267 - val_acc: 0.7814\n",
      "Epoch 14/15\n",
      "1930/1930 [==============================] - 12s 6ms/step - loss: 0.2628 - acc: 0.9415 - val_loss: 0.7503 - val_acc: 0.7953\n",
      "Epoch 15/15\n",
      "1930/1930 [==============================] - 12s 6ms/step - loss: 0.2696 - acc: 0.9415 - val_loss: 0.7645 - val_acc: 0.8000\n"
     ]
    }
   ],
   "source": [
    "epochs = 15\n",
    "batch_size = 64\n",
    "\n",
    "history = model.fit(X_train, Y_train, epochs=epochs, batch_size=batch_size,validation_split=0.1,callbacks=[EarlyStopping(monitor='val_loss', patience=3, min_delta=0.0001)])"
   ]
  },
  {
   "cell_type": "code",
   "execution_count": 11,
   "metadata": {},
   "outputs": [
    {
     "name": "stdout",
     "output_type": "stream",
     "text": [
      "239/239 [==============================] - 0s 2ms/step\n",
      "Test set\n",
      "  Loss: 0.781\n",
      "  Accuracy: 0.766\n"
     ]
    }
   ],
   "source": [
    "accr = model.evaluate(X_test,Y_test)\n",
    "print('Test set\\n  Loss: {:0.3f}\\n  Accuracy: {:0.3f}'.format(accr[0],accr[1]))"
   ]
  },
  {
   "cell_type": "code",
   "execution_count": 14,
   "metadata": {},
   "outputs": [
    {
     "data": {
      "image/png": "[encoded data removed]",
      "text/plain": [
       "<Figure size 432x288 with 1 Axes>"
      ]
     },
     "metadata": {
      "needs_background": "light"
     },
     "output_type": "display_data"
    }
   ],
   "source": [
    "plt.title('Loss')\n",
    "plt.plot(history.history['loss'], label='train')\n",
    "plt.plot(history.history['val_loss'], label='test')\n",
    "plt.legend()\n",
    "plt.show();"
   ]
  },
  {
   "cell_type": "code",
   "execution_count": 18,
   "metadata": {},
   "outputs": [],
   "source": [
    "Lstm_Incident=model.save('lstmincident')"
   ]
  },
  {
   "cell_type": "code",
   "execution_count": 13,
   "metadata": {},
   "outputs": [
    {
     "data": {
      "image/png": "[encoded data removed]",
      "text/plain": [
       "<Figure size 432x288 with 1 Axes>"
      ]
     },
     "metadata": {
      "needs_background": "light"
     },
     "output_type": "display_data"
    }
   ],
   "source": [
    "plt.title('Accuracy')\n",
    "plt.plot(history.history['acc'], label='train')\n",
    "plt.plot(history.history['val_acc'], label='test')\n",
    "plt.legend()\n",
    "plt.show();"
   ]
  }
 ],
 "metadata": {
  "kernelspec": {
   "display_name": "Python 3",
   "language": "python",
   "name": "python3"
  },
  "language_info": {
   "codemirror_mode": {
    "name": "ipython",
    "version": 3
   },
   "file_extension": ".py",
   "mimetype": "text/x-python",
   "name": "python",
   "nbconvert_exporter": "python",
   "pygments_lexer": "ipython3",
   "version": "3.7.1"
  }
 },
 "nbformat": 4,
 "nbformat_minor": 2
}
